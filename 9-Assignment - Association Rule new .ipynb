{
 "cells": [
  {
   "cell_type": "markdown",
   "id": "c281e47a",
   "metadata": {},
   "source": [
    "# Association Rule "
   ]
  },
  {
   "cell_type": "raw",
   "id": "39f81fc7",
   "metadata": {},
   "source": [
    "Prepare rules for the all the data sets \n",
    "1) Try different values of support and confidence. Observe the change in number of rules for different support,confidence values\n",
    "2) Change the minimum length in apriori algorithm\n",
    "3) Visulize the obtained rules using different plots "
   ]
  },
  {
   "cell_type": "code",
   "execution_count": 4,
   "id": "3768cafb",
   "metadata": {
    "ExecuteTime": {
     "end_time": "2022-05-13T14:24:32.218962Z",
     "start_time": "2022-05-13T14:24:29.315245Z"
    }
   },
   "outputs": [
    {
     "name": "stdout",
     "output_type": "stream",
     "text": [
      "Requirement already satisfied: mlxtend in c:\\users\\91901\\anaconda3\\lib\\site-packages (0.19.0)\n",
      "Requirement already satisfied: setuptools in c:\\users\\91901\\anaconda3\\lib\\site-packages (from mlxtend) (58.0.4)\n",
      "Requirement already satisfied: joblib>=0.13.2 in c:\\users\\91901\\anaconda3\\lib\\site-packages (from mlxtend) (1.1.0)\n",
      "Requirement already satisfied: scikit-learn>=0.20.3 in c:\\users\\91901\\anaconda3\\lib\\site-packages (from mlxtend) (0.24.2)\n",
      "Requirement already satisfied: matplotlib>=3.0.0 in c:\\users\\91901\\anaconda3\\lib\\site-packages (from mlxtend) (3.4.3)\n",
      "Requirement already satisfied: scipy>=1.2.1 in c:\\users\\91901\\anaconda3\\lib\\site-packages (from mlxtend) (1.7.1)\n",
      "Requirement already satisfied: numpy>=1.16.2 in c:\\users\\91901\\anaconda3\\lib\\site-packages (from mlxtend) (1.20.3)\n",
      "Requirement already satisfied: pandas>=0.24.2 in c:\\users\\91901\\anaconda3\\lib\\site-packages (from mlxtend) (1.3.4)\n",
      "Requirement already satisfied: pillow>=6.2.0 in c:\\users\\91901\\anaconda3\\lib\\site-packages (from matplotlib>=3.0.0->mlxtend) (8.4.0)\n",
      "Requirement already satisfied: python-dateutil>=2.7 in c:\\users\\91901\\anaconda3\\lib\\site-packages (from matplotlib>=3.0.0->mlxtend) (2.8.2)\n",
      "Requirement already satisfied: cycler>=0.10 in c:\\users\\91901\\anaconda3\\lib\\site-packages (from matplotlib>=3.0.0->mlxtend) (0.10.0)\n",
      "Requirement already satisfied: pyparsing>=2.2.1 in c:\\users\\91901\\anaconda3\\lib\\site-packages (from matplotlib>=3.0.0->mlxtend) (3.0.4)\n",
      "Requirement already satisfied: kiwisolver>=1.0.1 in c:\\users\\91901\\anaconda3\\lib\\site-packages (from matplotlib>=3.0.0->mlxtend) (1.3.1)\n",
      "Requirement already satisfied: six in c:\\users\\91901\\anaconda3\\lib\\site-packages (from cycler>=0.10->matplotlib>=3.0.0->mlxtend) (1.16.0)\n",
      "Requirement already satisfied: pytz>=2017.3 in c:\\users\\91901\\anaconda3\\lib\\site-packages (from pandas>=0.24.2->mlxtend) (2021.3)\n",
      "Requirement already satisfied: threadpoolctl>=2.0.0 in c:\\users\\91901\\anaconda3\\lib\\site-packages (from scikit-learn>=0.20.3->mlxtend) (2.2.0)\n"
     ]
    }
   ],
   "source": [
    "!pip install mlxtend\n"
   ]
  },
  {
   "cell_type": "code",
   "execution_count": 17,
   "id": "665853e4",
   "metadata": {
    "ExecuteTime": {
     "end_time": "2022-05-14T04:17:37.510680Z",
     "start_time": "2022-05-14T04:17:37.503519Z"
    }
   },
   "outputs": [],
   "source": [
    "import pandas as pd\n",
    "import numpy as pn \n",
    "import seaborn as sns \n",
    "import matplotlib.pyplot  as plt \n",
    "from mlxtend.frequent_patterns import apriori,association_rules\n",
    "from mlxtend.preprocessing import TransactionEncoder\n",
    "from mlxtend.frequent_patterns import fpgrowth\n",
    "from mlxtend.frequent_patterns import association_rules"
   ]
  },
  {
   "cell_type": "code",
   "execution_count": 2,
   "id": "f1bbb9a2",
   "metadata": {
    "ExecuteTime": {
     "end_time": "2022-05-14T04:15:12.316836Z",
     "start_time": "2022-05-14T04:15:12.273007Z"
    }
   },
   "outputs": [
    {
     "data": {
      "text/html": [
       "<div>\n",
       "<style scoped>\n",
       "    .dataframe tbody tr th:only-of-type {\n",
       "        vertical-align: middle;\n",
       "    }\n",
       "\n",
       "    .dataframe tbody tr th {\n",
       "        vertical-align: top;\n",
       "    }\n",
       "\n",
       "    .dataframe thead th {\n",
       "        text-align: right;\n",
       "    }\n",
       "</style>\n",
       "<table border=\"1\" class=\"dataframe\">\n",
       "  <thead>\n",
       "    <tr style=\"text-align: right;\">\n",
       "      <th></th>\n",
       "      <th>ChildBks</th>\n",
       "      <th>YouthBks</th>\n",
       "      <th>CookBks</th>\n",
       "      <th>DoItYBks</th>\n",
       "      <th>RefBks</th>\n",
       "      <th>ArtBks</th>\n",
       "      <th>GeogBks</th>\n",
       "      <th>ItalCook</th>\n",
       "      <th>ItalAtlas</th>\n",
       "      <th>ItalArt</th>\n",
       "      <th>Florence</th>\n",
       "    </tr>\n",
       "  </thead>\n",
       "  <tbody>\n",
       "    <tr>\n",
       "      <th>0</th>\n",
       "      <td>0</td>\n",
       "      <td>1</td>\n",
       "      <td>0</td>\n",
       "      <td>1</td>\n",
       "      <td>0</td>\n",
       "      <td>0</td>\n",
       "      <td>1</td>\n",
       "      <td>0</td>\n",
       "      <td>0</td>\n",
       "      <td>0</td>\n",
       "      <td>0</td>\n",
       "    </tr>\n",
       "    <tr>\n",
       "      <th>1</th>\n",
       "      <td>1</td>\n",
       "      <td>0</td>\n",
       "      <td>0</td>\n",
       "      <td>0</td>\n",
       "      <td>0</td>\n",
       "      <td>0</td>\n",
       "      <td>0</td>\n",
       "      <td>0</td>\n",
       "      <td>0</td>\n",
       "      <td>0</td>\n",
       "      <td>0</td>\n",
       "    </tr>\n",
       "    <tr>\n",
       "      <th>2</th>\n",
       "      <td>0</td>\n",
       "      <td>0</td>\n",
       "      <td>0</td>\n",
       "      <td>0</td>\n",
       "      <td>0</td>\n",
       "      <td>0</td>\n",
       "      <td>0</td>\n",
       "      <td>0</td>\n",
       "      <td>0</td>\n",
       "      <td>0</td>\n",
       "      <td>0</td>\n",
       "    </tr>\n",
       "    <tr>\n",
       "      <th>3</th>\n",
       "      <td>1</td>\n",
       "      <td>1</td>\n",
       "      <td>1</td>\n",
       "      <td>0</td>\n",
       "      <td>1</td>\n",
       "      <td>0</td>\n",
       "      <td>1</td>\n",
       "      <td>0</td>\n",
       "      <td>0</td>\n",
       "      <td>0</td>\n",
       "      <td>0</td>\n",
       "    </tr>\n",
       "    <tr>\n",
       "      <th>4</th>\n",
       "      <td>0</td>\n",
       "      <td>0</td>\n",
       "      <td>1</td>\n",
       "      <td>0</td>\n",
       "      <td>0</td>\n",
       "      <td>0</td>\n",
       "      <td>1</td>\n",
       "      <td>0</td>\n",
       "      <td>0</td>\n",
       "      <td>0</td>\n",
       "      <td>0</td>\n",
       "    </tr>\n",
       "    <tr>\n",
       "      <th>...</th>\n",
       "      <td>...</td>\n",
       "      <td>...</td>\n",
       "      <td>...</td>\n",
       "      <td>...</td>\n",
       "      <td>...</td>\n",
       "      <td>...</td>\n",
       "      <td>...</td>\n",
       "      <td>...</td>\n",
       "      <td>...</td>\n",
       "      <td>...</td>\n",
       "      <td>...</td>\n",
       "    </tr>\n",
       "    <tr>\n",
       "      <th>1995</th>\n",
       "      <td>0</td>\n",
       "      <td>0</td>\n",
       "      <td>1</td>\n",
       "      <td>0</td>\n",
       "      <td>0</td>\n",
       "      <td>1</td>\n",
       "      <td>1</td>\n",
       "      <td>1</td>\n",
       "      <td>0</td>\n",
       "      <td>1</td>\n",
       "      <td>1</td>\n",
       "    </tr>\n",
       "    <tr>\n",
       "      <th>1996</th>\n",
       "      <td>0</td>\n",
       "      <td>0</td>\n",
       "      <td>0</td>\n",
       "      <td>0</td>\n",
       "      <td>0</td>\n",
       "      <td>0</td>\n",
       "      <td>0</td>\n",
       "      <td>0</td>\n",
       "      <td>0</td>\n",
       "      <td>0</td>\n",
       "      <td>0</td>\n",
       "    </tr>\n",
       "    <tr>\n",
       "      <th>1997</th>\n",
       "      <td>0</td>\n",
       "      <td>0</td>\n",
       "      <td>0</td>\n",
       "      <td>0</td>\n",
       "      <td>0</td>\n",
       "      <td>0</td>\n",
       "      <td>0</td>\n",
       "      <td>0</td>\n",
       "      <td>0</td>\n",
       "      <td>0</td>\n",
       "      <td>0</td>\n",
       "    </tr>\n",
       "    <tr>\n",
       "      <th>1998</th>\n",
       "      <td>0</td>\n",
       "      <td>0</td>\n",
       "      <td>1</td>\n",
       "      <td>0</td>\n",
       "      <td>0</td>\n",
       "      <td>0</td>\n",
       "      <td>0</td>\n",
       "      <td>0</td>\n",
       "      <td>0</td>\n",
       "      <td>0</td>\n",
       "      <td>0</td>\n",
       "    </tr>\n",
       "    <tr>\n",
       "      <th>1999</th>\n",
       "      <td>0</td>\n",
       "      <td>0</td>\n",
       "      <td>0</td>\n",
       "      <td>0</td>\n",
       "      <td>0</td>\n",
       "      <td>0</td>\n",
       "      <td>0</td>\n",
       "      <td>0</td>\n",
       "      <td>0</td>\n",
       "      <td>0</td>\n",
       "      <td>0</td>\n",
       "    </tr>\n",
       "  </tbody>\n",
       "</table>\n",
       "<p>2000 rows × 11 columns</p>\n",
       "</div>"
      ],
      "text/plain": [
       "      ChildBks  YouthBks  CookBks  DoItYBks  RefBks  ArtBks  GeogBks  \\\n",
       "0            0         1        0         1       0       0        1   \n",
       "1            1         0        0         0       0       0        0   \n",
       "2            0         0        0         0       0       0        0   \n",
       "3            1         1        1         0       1       0        1   \n",
       "4            0         0        1         0       0       0        1   \n",
       "...        ...       ...      ...       ...     ...     ...      ...   \n",
       "1995         0         0        1         0       0       1        1   \n",
       "1996         0         0        0         0       0       0        0   \n",
       "1997         0         0        0         0       0       0        0   \n",
       "1998         0         0        1         0       0       0        0   \n",
       "1999         0         0        0         0       0       0        0   \n",
       "\n",
       "      ItalCook  ItalAtlas  ItalArt  Florence  \n",
       "0            0          0        0         0  \n",
       "1            0          0        0         0  \n",
       "2            0          0        0         0  \n",
       "3            0          0        0         0  \n",
       "4            0          0        0         0  \n",
       "...        ...        ...      ...       ...  \n",
       "1995         1          0        1         1  \n",
       "1996         0          0        0         0  \n",
       "1997         0          0        0         0  \n",
       "1998         0          0        0         0  \n",
       "1999         0          0        0         0  \n",
       "\n",
       "[2000 rows x 11 columns]"
      ]
     },
     "execution_count": 2,
     "metadata": {},
     "output_type": "execute_result"
    }
   ],
   "source": [
    "book=pd.read_csv(\"book.csv\")\n",
    "book"
   ]
  },
  {
   "cell_type": "code",
   "execution_count": 3,
   "id": "50901e93",
   "metadata": {
    "ExecuteTime": {
     "end_time": "2022-05-14T04:15:13.577778Z",
     "start_time": "2022-05-14T04:15:13.569376Z"
    }
   },
   "outputs": [
    {
     "data": {
      "text/plain": [
       "(2000, 11)"
      ]
     },
     "execution_count": 3,
     "metadata": {},
     "output_type": "execute_result"
    }
   ],
   "source": [
    "book.shape"
   ]
  },
  {
   "cell_type": "markdown",
   "id": "a2251dc3",
   "metadata": {},
   "source": [
    "#### Apriori Algorithm"
   ]
  },
  {
   "cell_type": "code",
   "execution_count": 4,
   "id": "08970845",
   "metadata": {
    "ExecuteTime": {
     "end_time": "2022-05-14T04:15:18.847404Z",
     "start_time": "2022-05-14T04:15:18.802491Z"
    }
   },
   "outputs": [
    {
     "data": {
      "text/html": [
       "<div>\n",
       "<style scoped>\n",
       "    .dataframe tbody tr th:only-of-type {\n",
       "        vertical-align: middle;\n",
       "    }\n",
       "\n",
       "    .dataframe tbody tr th {\n",
       "        vertical-align: top;\n",
       "    }\n",
       "\n",
       "    .dataframe thead th {\n",
       "        text-align: right;\n",
       "    }\n",
       "</style>\n",
       "<table border=\"1\" class=\"dataframe\">\n",
       "  <thead>\n",
       "    <tr style=\"text-align: right;\">\n",
       "      <th></th>\n",
       "      <th>support</th>\n",
       "      <th>itemsets</th>\n",
       "    </tr>\n",
       "  </thead>\n",
       "  <tbody>\n",
       "    <tr>\n",
       "      <th>0</th>\n",
       "      <td>0.4230</td>\n",
       "      <td>(0)</td>\n",
       "    </tr>\n",
       "    <tr>\n",
       "      <th>1</th>\n",
       "      <td>0.2475</td>\n",
       "      <td>(1)</td>\n",
       "    </tr>\n",
       "    <tr>\n",
       "      <th>2</th>\n",
       "      <td>0.4310</td>\n",
       "      <td>(2)</td>\n",
       "    </tr>\n",
       "    <tr>\n",
       "      <th>3</th>\n",
       "      <td>0.2820</td>\n",
       "      <td>(3)</td>\n",
       "    </tr>\n",
       "    <tr>\n",
       "      <th>4</th>\n",
       "      <td>0.2145</td>\n",
       "      <td>(4)</td>\n",
       "    </tr>\n",
       "    <tr>\n",
       "      <th>5</th>\n",
       "      <td>0.2410</td>\n",
       "      <td>(5)</td>\n",
       "    </tr>\n",
       "    <tr>\n",
       "      <th>6</th>\n",
       "      <td>0.2760</td>\n",
       "      <td>(6)</td>\n",
       "    </tr>\n",
       "    <tr>\n",
       "      <th>7</th>\n",
       "      <td>0.1135</td>\n",
       "      <td>(7)</td>\n",
       "    </tr>\n",
       "    <tr>\n",
       "      <th>8</th>\n",
       "      <td>0.1085</td>\n",
       "      <td>(10)</td>\n",
       "    </tr>\n",
       "    <tr>\n",
       "      <th>9</th>\n",
       "      <td>0.1650</td>\n",
       "      <td>(0, 1)</td>\n",
       "    </tr>\n",
       "    <tr>\n",
       "      <th>10</th>\n",
       "      <td>0.2560</td>\n",
       "      <td>(0, 2)</td>\n",
       "    </tr>\n",
       "    <tr>\n",
       "      <th>11</th>\n",
       "      <td>0.1840</td>\n",
       "      <td>(0, 3)</td>\n",
       "    </tr>\n",
       "    <tr>\n",
       "      <th>12</th>\n",
       "      <td>0.1515</td>\n",
       "      <td>(0, 4)</td>\n",
       "    </tr>\n",
       "    <tr>\n",
       "      <th>13</th>\n",
       "      <td>0.1625</td>\n",
       "      <td>(0, 5)</td>\n",
       "    </tr>\n",
       "    <tr>\n",
       "      <th>14</th>\n",
       "      <td>0.1950</td>\n",
       "      <td>(0, 6)</td>\n",
       "    </tr>\n",
       "    <tr>\n",
       "      <th>15</th>\n",
       "      <td>0.1620</td>\n",
       "      <td>(1, 2)</td>\n",
       "    </tr>\n",
       "    <tr>\n",
       "      <th>16</th>\n",
       "      <td>0.1155</td>\n",
       "      <td>(1, 3)</td>\n",
       "    </tr>\n",
       "    <tr>\n",
       "      <th>17</th>\n",
       "      <td>0.1010</td>\n",
       "      <td>(1, 5)</td>\n",
       "    </tr>\n",
       "    <tr>\n",
       "      <th>18</th>\n",
       "      <td>0.1205</td>\n",
       "      <td>(1, 6)</td>\n",
       "    </tr>\n",
       "    <tr>\n",
       "      <th>19</th>\n",
       "      <td>0.1875</td>\n",
       "      <td>(2, 3)</td>\n",
       "    </tr>\n",
       "    <tr>\n",
       "      <th>20</th>\n",
       "      <td>0.1525</td>\n",
       "      <td>(2, 4)</td>\n",
       "    </tr>\n",
       "    <tr>\n",
       "      <th>21</th>\n",
       "      <td>0.1670</td>\n",
       "      <td>(2, 5)</td>\n",
       "    </tr>\n",
       "    <tr>\n",
       "      <th>22</th>\n",
       "      <td>0.1925</td>\n",
       "      <td>(2, 6)</td>\n",
       "    </tr>\n",
       "    <tr>\n",
       "      <th>23</th>\n",
       "      <td>0.1135</td>\n",
       "      <td>(2, 7)</td>\n",
       "    </tr>\n",
       "    <tr>\n",
       "      <th>24</th>\n",
       "      <td>0.1055</td>\n",
       "      <td>(3, 4)</td>\n",
       "    </tr>\n",
       "    <tr>\n",
       "      <th>25</th>\n",
       "      <td>0.1235</td>\n",
       "      <td>(3, 5)</td>\n",
       "    </tr>\n",
       "    <tr>\n",
       "      <th>26</th>\n",
       "      <td>0.1325</td>\n",
       "      <td>(3, 6)</td>\n",
       "    </tr>\n",
       "    <tr>\n",
       "      <th>27</th>\n",
       "      <td>0.1105</td>\n",
       "      <td>(4, 6)</td>\n",
       "    </tr>\n",
       "    <tr>\n",
       "      <th>28</th>\n",
       "      <td>0.1275</td>\n",
       "      <td>(5, 6)</td>\n",
       "    </tr>\n",
       "    <tr>\n",
       "      <th>29</th>\n",
       "      <td>0.1290</td>\n",
       "      <td>(0, 1, 2)</td>\n",
       "    </tr>\n",
       "    <tr>\n",
       "      <th>30</th>\n",
       "      <td>0.1460</td>\n",
       "      <td>(0, 2, 3)</td>\n",
       "    </tr>\n",
       "    <tr>\n",
       "      <th>31</th>\n",
       "      <td>0.1225</td>\n",
       "      <td>(0, 2, 4)</td>\n",
       "    </tr>\n",
       "    <tr>\n",
       "      <th>32</th>\n",
       "      <td>0.1265</td>\n",
       "      <td>(0, 2, 5)</td>\n",
       "    </tr>\n",
       "    <tr>\n",
       "      <th>33</th>\n",
       "      <td>0.1495</td>\n",
       "      <td>(0, 2, 6)</td>\n",
       "    </tr>\n",
       "    <tr>\n",
       "      <th>34</th>\n",
       "      <td>0.1045</td>\n",
       "      <td>(0, 3, 6)</td>\n",
       "    </tr>\n",
       "    <tr>\n",
       "      <th>35</th>\n",
       "      <td>0.1020</td>\n",
       "      <td>(0, 5, 6)</td>\n",
       "    </tr>\n",
       "    <tr>\n",
       "      <th>36</th>\n",
       "      <td>0.1015</td>\n",
       "      <td>(2, 3, 5)</td>\n",
       "    </tr>\n",
       "    <tr>\n",
       "      <th>37</th>\n",
       "      <td>0.1085</td>\n",
       "      <td>(2, 3, 6)</td>\n",
       "    </tr>\n",
       "    <tr>\n",
       "      <th>38</th>\n",
       "      <td>0.1035</td>\n",
       "      <td>(2, 5, 6)</td>\n",
       "    </tr>\n",
       "  </tbody>\n",
       "</table>\n",
       "</div>"
      ],
      "text/plain": [
       "    support   itemsets\n",
       "0    0.4230        (0)\n",
       "1    0.2475        (1)\n",
       "2    0.4310        (2)\n",
       "3    0.2820        (3)\n",
       "4    0.2145        (4)\n",
       "5    0.2410        (5)\n",
       "6    0.2760        (6)\n",
       "7    0.1135        (7)\n",
       "8    0.1085       (10)\n",
       "9    0.1650     (0, 1)\n",
       "10   0.2560     (0, 2)\n",
       "11   0.1840     (0, 3)\n",
       "12   0.1515     (0, 4)\n",
       "13   0.1625     (0, 5)\n",
       "14   0.1950     (0, 6)\n",
       "15   0.1620     (1, 2)\n",
       "16   0.1155     (1, 3)\n",
       "17   0.1010     (1, 5)\n",
       "18   0.1205     (1, 6)\n",
       "19   0.1875     (2, 3)\n",
       "20   0.1525     (2, 4)\n",
       "21   0.1670     (2, 5)\n",
       "22   0.1925     (2, 6)\n",
       "23   0.1135     (2, 7)\n",
       "24   0.1055     (3, 4)\n",
       "25   0.1235     (3, 5)\n",
       "26   0.1325     (3, 6)\n",
       "27   0.1105     (4, 6)\n",
       "28   0.1275     (5, 6)\n",
       "29   0.1290  (0, 1, 2)\n",
       "30   0.1460  (0, 2, 3)\n",
       "31   0.1225  (0, 2, 4)\n",
       "32   0.1265  (0, 2, 5)\n",
       "33   0.1495  (0, 2, 6)\n",
       "34   0.1045  (0, 3, 6)\n",
       "35   0.1020  (0, 5, 6)\n",
       "36   0.1015  (2, 3, 5)\n",
       "37   0.1085  (2, 3, 6)\n",
       "38   0.1035  (2, 5, 6)"
      ]
     },
     "execution_count": 4,
     "metadata": {},
     "output_type": "execute_result"
    }
   ],
   "source": [
    "frequent_itemsets_ap = apriori(book, min_support = 0.1)\n",
    "frequent_itemsets_ap"
   ]
  },
  {
   "cell_type": "code",
   "execution_count": 5,
   "id": "98a608f0",
   "metadata": {
    "ExecuteTime": {
     "end_time": "2022-05-14T04:15:19.784078Z",
     "start_time": "2022-05-14T04:15:19.769825Z"
    }
   },
   "outputs": [
    {
     "name": "stdout",
     "output_type": "stream",
     "text": [
      "39\n"
     ]
    }
   ],
   "source": [
    "print(len(frequent_itemsets_ap))"
   ]
  },
  {
   "cell_type": "code",
   "execution_count": 6,
   "id": "772d17c8",
   "metadata": {
    "ExecuteTime": {
     "end_time": "2022-05-14T04:15:20.750942Z",
     "start_time": "2022-05-14T04:15:20.728026Z"
    }
   },
   "outputs": [
    {
     "name": "stdout",
     "output_type": "stream",
     "text": [
      "\r",
      "Processing 72 combinations | Sampling itemset size 2\r",
      "Processing 153 combinations | Sampling itemset size 3\r",
      "Processing 44 combinations | Sampling itemset size 4\n",
      "   support              itemsets\n",
      "0   0.4230            (ChildBks)\n",
      "1   0.2475            (YouthBks)\n",
      "2   0.4310             (CookBks)\n",
      "3   0.2820            (DoItYBks)\n",
      "4   0.2145              (RefBks)\n",
      "5   0.2410              (ArtBks)\n",
      "6   0.2760             (GeogBks)\n",
      "7   0.1135            (ItalCook)\n",
      "8   0.1085            (Florence)\n",
      "9   0.1650  (YouthBks, ChildBks)\n"
     ]
    }
   ],
   "source": [
    "frequent_itemsets_ap = apriori(book, min_support=0.1, use_colnames=True, verbose=1)\n",
    "print(frequent_itemsets_ap.head(10))"
   ]
  },
  {
   "cell_type": "code",
   "execution_count": 7,
   "id": "21e3b7ae",
   "metadata": {
    "ExecuteTime": {
     "end_time": "2022-05-14T04:15:21.488110Z",
     "start_time": "2022-05-14T04:15:21.463946Z"
    }
   },
   "outputs": [
    {
     "data": {
      "text/html": [
       "<div>\n",
       "<style scoped>\n",
       "    .dataframe tbody tr th:only-of-type {\n",
       "        vertical-align: middle;\n",
       "    }\n",
       "\n",
       "    .dataframe tbody tr th {\n",
       "        vertical-align: top;\n",
       "    }\n",
       "\n",
       "    .dataframe thead th {\n",
       "        text-align: right;\n",
       "    }\n",
       "</style>\n",
       "<table border=\"1\" class=\"dataframe\">\n",
       "  <thead>\n",
       "    <tr style=\"text-align: right;\">\n",
       "      <th></th>\n",
       "      <th>support</th>\n",
       "      <th>itemsets</th>\n",
       "    </tr>\n",
       "  </thead>\n",
       "  <tbody>\n",
       "    <tr>\n",
       "      <th>2</th>\n",
       "      <td>0.4310</td>\n",
       "      <td>(CookBks)</td>\n",
       "    </tr>\n",
       "    <tr>\n",
       "      <th>0</th>\n",
       "      <td>0.4230</td>\n",
       "      <td>(ChildBks)</td>\n",
       "    </tr>\n",
       "    <tr>\n",
       "      <th>3</th>\n",
       "      <td>0.2820</td>\n",
       "      <td>(DoItYBks)</td>\n",
       "    </tr>\n",
       "    <tr>\n",
       "      <th>6</th>\n",
       "      <td>0.2760</td>\n",
       "      <td>(GeogBks)</td>\n",
       "    </tr>\n",
       "    <tr>\n",
       "      <th>10</th>\n",
       "      <td>0.2560</td>\n",
       "      <td>(CookBks, ChildBks)</td>\n",
       "    </tr>\n",
       "    <tr>\n",
       "      <th>1</th>\n",
       "      <td>0.2475</td>\n",
       "      <td>(YouthBks)</td>\n",
       "    </tr>\n",
       "    <tr>\n",
       "      <th>5</th>\n",
       "      <td>0.2410</td>\n",
       "      <td>(ArtBks)</td>\n",
       "    </tr>\n",
       "    <tr>\n",
       "      <th>4</th>\n",
       "      <td>0.2145</td>\n",
       "      <td>(RefBks)</td>\n",
       "    </tr>\n",
       "    <tr>\n",
       "      <th>14</th>\n",
       "      <td>0.1950</td>\n",
       "      <td>(GeogBks, ChildBks)</td>\n",
       "    </tr>\n",
       "    <tr>\n",
       "      <th>22</th>\n",
       "      <td>0.1925</td>\n",
       "      <td>(GeogBks, CookBks)</td>\n",
       "    </tr>\n",
       "  </tbody>\n",
       "</table>\n",
       "</div>"
      ],
      "text/plain": [
       "    support             itemsets\n",
       "2    0.4310            (CookBks)\n",
       "0    0.4230           (ChildBks)\n",
       "3    0.2820           (DoItYBks)\n",
       "6    0.2760            (GeogBks)\n",
       "10   0.2560  (CookBks, ChildBks)\n",
       "1    0.2475           (YouthBks)\n",
       "5    0.2410             (ArtBks)\n",
       "4    0.2145             (RefBks)\n",
       "14   0.1950  (GeogBks, ChildBks)\n",
       "22   0.1925   (GeogBks, CookBks)"
      ]
     },
     "execution_count": 7,
     "metadata": {},
     "output_type": "execute_result"
    }
   ],
   "source": [
    "frequent_itemsets_ap.sort_values(\"support\",ascending = False).head(10)"
   ]
  },
  {
   "cell_type": "code",
   "execution_count": 8,
   "id": "bd7aa6fb",
   "metadata": {
    "ExecuteTime": {
     "end_time": "2022-05-14T04:15:24.449808Z",
     "start_time": "2022-05-14T04:15:24.431533Z"
    }
   },
   "outputs": [
    {
     "name": "stdout",
     "output_type": "stream",
     "text": [
      "  antecedents consequents  antecedent support  consequent support  support  \\\n",
      "0  (YouthBks)  (ChildBks)              0.2475               0.423    0.165   \n",
      "1   (CookBks)  (ChildBks)              0.4310               0.423    0.256   \n",
      "2  (ChildBks)   (CookBks)              0.4230               0.431    0.256   \n",
      "3  (DoItYBks)  (ChildBks)              0.2820               0.423    0.184   \n",
      "4  (ChildBks)  (DoItYBks)              0.4230               0.282    0.184   \n",
      "\n",
      "   confidence      lift  leverage  conviction  \n",
      "0    0.666667  1.576044  0.060308    1.731000  \n",
      "1    0.593968  1.404179  0.073687    1.421069  \n",
      "2    0.605201  1.404179  0.073687    1.441240  \n",
      "3    0.652482  1.542511  0.064714    1.660347  \n",
      "4    0.434988  1.542511  0.064714    1.270770  \n"
     ]
    }
   ],
   "source": [
    "rules_ap = association_rules(frequent_itemsets_ap, metric= \"confidence\", min_threshold=0.4)\n",
    "print(rules_ap.head())"
   ]
  },
  {
   "cell_type": "code",
   "execution_count": 9,
   "id": "cb6af987",
   "metadata": {
    "ExecuteTime": {
     "end_time": "2022-05-14T04:15:25.248032Z",
     "start_time": "2022-05-14T04:15:25.232222Z"
    }
   },
   "outputs": [
    {
     "data": {
      "text/plain": [
       "(70, 9)"
      ]
     },
     "execution_count": 9,
     "metadata": {},
     "output_type": "execute_result"
    }
   ],
   "source": [
    "rules_ap[(rules_ap.support > 0.015) & (rules_ap.confidence > 0.4)].sort_values(\"confidence\", ascending = False).shape"
   ]
  },
  {
   "cell_type": "code",
   "execution_count": 10,
   "id": "7dd70fd5",
   "metadata": {
    "ExecuteTime": {
     "end_time": "2022-05-14T04:15:26.229315Z",
     "start_time": "2022-05-14T04:15:26.201219Z"
    }
   },
   "outputs": [
    {
     "data": {
      "text/html": [
       "<div>\n",
       "<style scoped>\n",
       "    .dataframe tbody tr th:only-of-type {\n",
       "        vertical-align: middle;\n",
       "    }\n",
       "\n",
       "    .dataframe tbody tr th {\n",
       "        vertical-align: top;\n",
       "    }\n",
       "\n",
       "    .dataframe thead th {\n",
       "        text-align: right;\n",
       "    }\n",
       "</style>\n",
       "<table border=\"1\" class=\"dataframe\">\n",
       "  <thead>\n",
       "    <tr style=\"text-align: right;\">\n",
       "      <th></th>\n",
       "      <th>antecedents</th>\n",
       "      <th>consequents</th>\n",
       "      <th>antecedent support</th>\n",
       "      <th>consequent support</th>\n",
       "      <th>support</th>\n",
       "      <th>confidence</th>\n",
       "      <th>lift</th>\n",
       "      <th>leverage</th>\n",
       "      <th>conviction</th>\n",
       "      <th>lhs items</th>\n",
       "    </tr>\n",
       "  </thead>\n",
       "  <tbody>\n",
       "    <tr>\n",
       "      <th>57</th>\n",
       "      <td>(ArtBks, ChildBks)</td>\n",
       "      <td>(GeogBks)</td>\n",
       "      <td>0.1625</td>\n",
       "      <td>0.2760</td>\n",
       "      <td>0.1020</td>\n",
       "      <td>0.627692</td>\n",
       "      <td>2.274247</td>\n",
       "      <td>0.057150</td>\n",
       "      <td>1.944628</td>\n",
       "      <td>2</td>\n",
       "    </tr>\n",
       "    <tr>\n",
       "      <th>59</th>\n",
       "      <td>(DoItYBks, CookBks)</td>\n",
       "      <td>(ArtBks)</td>\n",
       "      <td>0.1875</td>\n",
       "      <td>0.2410</td>\n",
       "      <td>0.1015</td>\n",
       "      <td>0.541333</td>\n",
       "      <td>2.246196</td>\n",
       "      <td>0.056313</td>\n",
       "      <td>1.654797</td>\n",
       "      <td>2</td>\n",
       "    </tr>\n",
       "    <tr>\n",
       "      <th>68</th>\n",
       "      <td>(ArtBks, CookBks)</td>\n",
       "      <td>(GeogBks)</td>\n",
       "      <td>0.1670</td>\n",
       "      <td>0.2760</td>\n",
       "      <td>0.1035</td>\n",
       "      <td>0.619760</td>\n",
       "      <td>2.245509</td>\n",
       "      <td>0.057408</td>\n",
       "      <td>1.904063</td>\n",
       "      <td>2</td>\n",
       "    </tr>\n",
       "    <tr>\n",
       "      <th>67</th>\n",
       "      <td>(GeogBks, CookBks)</td>\n",
       "      <td>(ArtBks)</td>\n",
       "      <td>0.1925</td>\n",
       "      <td>0.2410</td>\n",
       "      <td>0.1035</td>\n",
       "      <td>0.537662</td>\n",
       "      <td>2.230964</td>\n",
       "      <td>0.057107</td>\n",
       "      <td>1.641657</td>\n",
       "      <td>2</td>\n",
       "    </tr>\n",
       "    <tr>\n",
       "      <th>42</th>\n",
       "      <td>(CookBks, ChildBks)</td>\n",
       "      <td>(RefBks)</td>\n",
       "      <td>0.2560</td>\n",
       "      <td>0.2145</td>\n",
       "      <td>0.1225</td>\n",
       "      <td>0.478516</td>\n",
       "      <td>2.230842</td>\n",
       "      <td>0.067588</td>\n",
       "      <td>1.506277</td>\n",
       "      <td>2</td>\n",
       "    </tr>\n",
       "  </tbody>\n",
       "</table>\n",
       "</div>"
      ],
      "text/plain": [
       "            antecedents consequents  antecedent support  consequent support  \\\n",
       "57   (ArtBks, ChildBks)   (GeogBks)              0.1625              0.2760   \n",
       "59  (DoItYBks, CookBks)    (ArtBks)              0.1875              0.2410   \n",
       "68    (ArtBks, CookBks)   (GeogBks)              0.1670              0.2760   \n",
       "67   (GeogBks, CookBks)    (ArtBks)              0.1925              0.2410   \n",
       "42  (CookBks, ChildBks)    (RefBks)              0.2560              0.2145   \n",
       "\n",
       "    support  confidence      lift  leverage  conviction  lhs items  \n",
       "57   0.1020    0.627692  2.274247  0.057150    1.944628          2  \n",
       "59   0.1015    0.541333  2.246196  0.056313    1.654797          2  \n",
       "68   0.1035    0.619760  2.245509  0.057408    1.904063          2  \n",
       "67   0.1035    0.537662  2.230964  0.057107    1.641657          2  \n",
       "42   0.1225    0.478516  2.230842  0.067588    1.506277          2  "
      ]
     },
     "execution_count": 10,
     "metadata": {},
     "output_type": "execute_result"
    }
   ],
   "source": [
    "rules_ap['lhs items'] = rules_ap['antecedents'].apply(lambda x:len(x) )\n",
    "rules_ap[rules_ap['lhs items']>1].sort_values('lift', ascending=False).head()"
   ]
  },
  {
   "cell_type": "code",
   "execution_count": 11,
   "id": "62f2bdba",
   "metadata": {
    "ExecuteTime": {
     "end_time": "2022-05-14T04:15:27.626782Z",
     "start_time": "2022-05-14T04:15:27.240851Z"
    }
   },
   "outputs": [
    {
     "data": {
      "text/plain": [
       "(array([0.5, 1.5, 2.5, 3.5, 4.5, 5.5, 6.5]),\n",
       " [Text(0.5, 0, 'ArtBks'),\n",
       "  Text(1.5, 0, 'ChildBks'),\n",
       "  Text(2.5, 0, 'CookBks'),\n",
       "  Text(3.5, 0, 'DoItYBks'),\n",
       "  Text(4.5, 0, 'GeogBks'),\n",
       "  Text(5.5, 0, 'RefBks'),\n",
       "  Text(6.5, 0, 'YouthBks')])"
      ]
     },
     "execution_count": 11,
     "metadata": {},
     "output_type": "execute_result"
    },
    {
     "data": {
      "image/png": "[encoded data removed]",
      "text/plain": [
       "<Figure size 432x288 with 2 Axes>"
      ]
     },
     "metadata": {
      "needs_background": "light"
     },
     "output_type": "display_data"
    }
   ],
   "source": [
    "rules_ap['antecedents_'] = rules_ap['antecedents'].apply(lambda a: ','.join(list(a)))\n",
    "rules_ap['consequents_'] = rules_ap['consequents'].apply(lambda a: ','.join(list(a)))\n",
    "# Transform the DataFrame of rules into a matrix using the confidence metric\n",
    "pivot = rules_ap[rules_ap['lhs items']>1].pivot(index = 'antecedents_', \n",
    "                    columns = 'consequents_', values= 'confidence')\n",
    "# Generate a heatmap with annotations \n",
    "sns.heatmap(pivot, annot = True)\n",
    "plt.title('Heat Map - For Confidence Metric')\n",
    "plt.yticks(rotation=0)\n",
    "plt.xticks(rotation=90)"
   ]
  },
  {
   "cell_type": "code",
   "execution_count": 12,
   "id": "8c8f3fe1",
   "metadata": {
    "ExecuteTime": {
     "end_time": "2022-05-14T04:15:28.379026Z",
     "start_time": "2022-05-14T04:15:28.359782Z"
    }
   },
   "outputs": [
    {
     "name": "stdout",
     "output_type": "stream",
     "text": [
      "(100, 9)\n"
     ]
    }
   ],
   "source": [
    "rules_ap_li = association_rules(frequent_itemsets_ap, metric=\"lift\", min_threshold=0.6)\n",
    "print(rules_ap_li.shape)"
   ]
  },
  {
   "cell_type": "code",
   "execution_count": 13,
   "id": "5c260848",
   "metadata": {
    "ExecuteTime": {
     "end_time": "2022-05-14T04:15:43.761085Z",
     "start_time": "2022-05-14T04:15:43.728784Z"
    }
   },
   "outputs": [
    {
     "data": {
      "text/html": [
       "<div>\n",
       "<style scoped>\n",
       "    .dataframe tbody tr th:only-of-type {\n",
       "        vertical-align: middle;\n",
       "    }\n",
       "\n",
       "    .dataframe tbody tr th {\n",
       "        vertical-align: top;\n",
       "    }\n",
       "\n",
       "    .dataframe thead th {\n",
       "        text-align: right;\n",
       "    }\n",
       "</style>\n",
       "<table border=\"1\" class=\"dataframe\">\n",
       "  <thead>\n",
       "    <tr style=\"text-align: right;\">\n",
       "      <th></th>\n",
       "      <th>antecedents</th>\n",
       "      <th>consequents</th>\n",
       "      <th>antecedent support</th>\n",
       "      <th>consequent support</th>\n",
       "      <th>support</th>\n",
       "      <th>confidence</th>\n",
       "      <th>lift</th>\n",
       "      <th>leverage</th>\n",
       "      <th>conviction</th>\n",
       "      <th>lhs items</th>\n",
       "    </tr>\n",
       "  </thead>\n",
       "  <tbody>\n",
       "    <tr>\n",
       "      <th>78</th>\n",
       "      <td>(ArtBks, ChildBks)</td>\n",
       "      <td>(GeogBks)</td>\n",
       "      <td>0.1625</td>\n",
       "      <td>0.2760</td>\n",
       "      <td>0.1020</td>\n",
       "      <td>0.627692</td>\n",
       "      <td>2.274247</td>\n",
       "      <td>0.057150</td>\n",
       "      <td>1.944628</td>\n",
       "      <td>2</td>\n",
       "    </tr>\n",
       "    <tr>\n",
       "      <th>82</th>\n",
       "      <td>(DoItYBks, CookBks)</td>\n",
       "      <td>(ArtBks)</td>\n",
       "      <td>0.1875</td>\n",
       "      <td>0.2410</td>\n",
       "      <td>0.1015</td>\n",
       "      <td>0.541333</td>\n",
       "      <td>2.246196</td>\n",
       "      <td>0.056313</td>\n",
       "      <td>1.654797</td>\n",
       "      <td>2</td>\n",
       "    </tr>\n",
       "    <tr>\n",
       "      <th>96</th>\n",
       "      <td>(ArtBks, CookBks)</td>\n",
       "      <td>(GeogBks)</td>\n",
       "      <td>0.1670</td>\n",
       "      <td>0.2760</td>\n",
       "      <td>0.1035</td>\n",
       "      <td>0.619760</td>\n",
       "      <td>2.245509</td>\n",
       "      <td>0.057408</td>\n",
       "      <td>1.904063</td>\n",
       "      <td>2</td>\n",
       "    </tr>\n",
       "    <tr>\n",
       "      <th>95</th>\n",
       "      <td>(GeogBks, CookBks)</td>\n",
       "      <td>(ArtBks)</td>\n",
       "      <td>0.1925</td>\n",
       "      <td>0.2410</td>\n",
       "      <td>0.1035</td>\n",
       "      <td>0.537662</td>\n",
       "      <td>2.230964</td>\n",
       "      <td>0.057107</td>\n",
       "      <td>1.641657</td>\n",
       "      <td>2</td>\n",
       "    </tr>\n",
       "    <tr>\n",
       "      <th>54</th>\n",
       "      <td>(CookBks, ChildBks)</td>\n",
       "      <td>(RefBks)</td>\n",
       "      <td>0.2560</td>\n",
       "      <td>0.2145</td>\n",
       "      <td>0.1225</td>\n",
       "      <td>0.478516</td>\n",
       "      <td>2.230842</td>\n",
       "      <td>0.067588</td>\n",
       "      <td>1.506277</td>\n",
       "      <td>2</td>\n",
       "    </tr>\n",
       "  </tbody>\n",
       "</table>\n",
       "</div>"
      ],
      "text/plain": [
       "            antecedents consequents  antecedent support  consequent support  \\\n",
       "78   (ArtBks, ChildBks)   (GeogBks)              0.1625              0.2760   \n",
       "82  (DoItYBks, CookBks)    (ArtBks)              0.1875              0.2410   \n",
       "96    (ArtBks, CookBks)   (GeogBks)              0.1670              0.2760   \n",
       "95   (GeogBks, CookBks)    (ArtBks)              0.1925              0.2410   \n",
       "54  (CookBks, ChildBks)    (RefBks)              0.2560              0.2145   \n",
       "\n",
       "    support  confidence      lift  leverage  conviction  lhs items  \n",
       "78   0.1020    0.627692  2.274247  0.057150    1.944628          2  \n",
       "82   0.1015    0.541333  2.246196  0.056313    1.654797          2  \n",
       "96   0.1035    0.619760  2.245509  0.057408    1.904063          2  \n",
       "95   0.1035    0.537662  2.230964  0.057107    1.641657          2  \n",
       "54   0.1225    0.478516  2.230842  0.067588    1.506277          2  "
      ]
     },
     "execution_count": 13,
     "metadata": {},
     "output_type": "execute_result"
    }
   ],
   "source": [
    "\n",
    "rules_ap_li['lhs items'] = rules_ap_li['antecedents'].apply(lambda x:len(x) )\n",
    "rules_ap_li[rules_ap_li['lhs items']>1].sort_values('lift', ascending=False).head()"
   ]
  },
  {
   "cell_type": "code",
   "execution_count": 14,
   "id": "58551332",
   "metadata": {
    "ExecuteTime": {
     "end_time": "2022-05-14T04:16:00.759356Z",
     "start_time": "2022-05-14T04:16:00.496564Z"
    }
   },
   "outputs": [
    {
     "data": {
      "text/plain": [
       "(array([0.5, 1.5, 2.5, 3.5, 4.5, 5.5, 6.5]),\n",
       " [Text(0.5, 0, 'ArtBks'),\n",
       "  Text(1.5, 0, 'ChildBks'),\n",
       "  Text(2.5, 0, 'CookBks'),\n",
       "  Text(3.5, 0, 'DoItYBks'),\n",
       "  Text(4.5, 0, 'GeogBks'),\n",
       "  Text(5.5, 0, 'RefBks'),\n",
       "  Text(6.5, 0, 'YouthBks')])"
      ]
     },
     "execution_count": 14,
     "metadata": {},
     "output_type": "execute_result"
    },
    {
     "data": {
      "image/png": "[encoded data removed]",
      "text/plain": [
       "<Figure size 432x288 with 2 Axes>"
      ]
     },
     "metadata": {
      "needs_background": "light"
     },
     "output_type": "display_data"
    }
   ],
   "source": [
    "rules_ap_li['antecedents_'] = rules_ap_li['antecedents'].apply(lambda a: ','.join(list(a)))\n",
    "rules_ap_li['consequents_'] = rules_ap_li['consequents'].apply(lambda a: ','.join(list(a)))\n",
    "# Transform the DataFrame of rules into a matrix using the lift metric\n",
    "pivot = rules_ap_li[rules_ap_li['lhs items']>1].pivot(index = 'antecedents_', \n",
    "                    columns = 'consequents_', values= 'lift')\n",
    "# Generate a heatmap with annotations on and the colorbar off\n",
    "sns.heatmap(pivot, annot = True)\n",
    "plt.title('Heat Map - For Lift Metric')\n",
    "plt.yticks(rotation=0)\n",
    "plt.xticks(rotation=90)"
   ]
  },
  {
   "cell_type": "markdown",
   "id": "43572a79",
   "metadata": {},
   "source": [
    "#### FpGrowth Algorithm"
   ]
  },
  {
   "cell_type": "code",
   "execution_count": 18,
   "id": "5730202d",
   "metadata": {
    "ExecuteTime": {
     "end_time": "2022-05-14T04:17:44.624087Z",
     "start_time": "2022-05-14T04:17:44.601232Z"
    }
   },
   "outputs": [
    {
     "name": "stdout",
     "output_type": "stream",
     "text": [
      "\r",
      "9 itemset(s) from tree conditioned on items ()\n",
      "\r",
      "2 itemset(s) from tree conditioned on items (DoItYBks)\n",
      "\r",
      "1 itemset(s) from tree conditioned on items (DoItYBks, ChildBks)\n",
      "\r",
      "0 itemset(s) from tree conditioned on items (DoItYBks, CookBks)\n",
      "\r",
      "3 itemset(s) from tree conditioned on items (GeogBks)\n",
      "\r",
      "2 itemset(s) from tree conditioned on items (GeogBks, DoItYBks)\n",
      "\r",
      "0 itemset(s) from tree conditioned on items (GeogBks, DoItYBks, CookBks)\n",
      "\r",
      "0 itemset(s) from tree conditioned on items (GeogBks, DoItYBks, ChildBks)\n",
      "\r",
      "0 itemset(s) from tree conditioned on items (GeogBks, ChildBks)\n",
      "\r",
      "1 itemset(s) from tree conditioned on items (GeogBks, CookBks)\n",
      "\r",
      "4 itemset(s) from tree conditioned on items (YouthBks)\n",
      "\r",
      "0 itemset(s) from tree conditioned on items (YouthBks, GeogBks)\n",
      "\r",
      "0 itemset(s) from tree conditioned on items (YouthBks, DoItYBks)\n",
      "\r",
      "0 itemset(s) from tree conditioned on items (YouthBks, ChildBks)\n",
      "\r",
      "1 itemset(s) from tree conditioned on items (YouthBks, CookBks)\n",
      "\r",
      "1 itemset(s) from tree conditioned on items (ChildBks)\n",
      "\r",
      "0 itemset(s) from tree conditioned on items (CookBks)\n",
      "\r",
      "4 itemset(s) from tree conditioned on items (RefBks)\n",
      "\r",
      "0 itemset(s) from tree conditioned on items (RefBks, CookBks)\n",
      "\r",
      "1 itemset(s) from tree conditioned on items (RefBks, ChildBks)\n",
      "\r",
      "0 itemset(s) from tree conditioned on items (RefBks, GeogBks)\n",
      "\r",
      "0 itemset(s) from tree conditioned on items (RefBks, DoItYBks)\n",
      "\r",
      "5 itemset(s) from tree conditioned on items (ArtBks)\n",
      "\r",
      "1 itemset(s) from tree conditioned on items (ArtBks, ChildBks)\n",
      "\r",
      "1 itemset(s) from tree conditioned on items (ArtBks, DoItYBks)\n",
      "\r",
      "0 itemset(s) from tree conditioned on items (ArtBks, YouthBks)\n",
      "\r",
      "0 itemset(s) from tree conditioned on items (ArtBks, CookBks)\n",
      "\r",
      "2 itemset(s) from tree conditioned on items (ArtBks, GeogBks)\n",
      "\r",
      "0 itemset(s) from tree conditioned on items (ArtBks, GeogBks, CookBks)\n",
      "\r",
      "0 itemset(s) from tree conditioned on items (ArtBks, GeogBks, ChildBks)\n",
      "\r",
      "0 itemset(s) from tree conditioned on items (Florence)\n",
      "\r",
      "1 itemset(s) from tree conditioned on items (ItalCook)\n",
      "(39, 2)\n"
     ]
    }
   ],
   "source": [
    "frequent_itemsets_fp=fpgrowth(book, min_support=0.1, use_colnames=True,verbose=1)\n",
    "print(frequent_itemsets_fp.shape)"
   ]
  },
  {
   "cell_type": "code",
   "execution_count": 19,
   "id": "2ed5d7c1",
   "metadata": {
    "ExecuteTime": {
     "end_time": "2022-05-14T04:17:45.374375Z",
     "start_time": "2022-05-14T04:17:45.352363Z"
    }
   },
   "outputs": [
    {
     "data": {
      "text/html": [
       "<div>\n",
       "<style scoped>\n",
       "    .dataframe tbody tr th:only-of-type {\n",
       "        vertical-align: middle;\n",
       "    }\n",
       "\n",
       "    .dataframe tbody tr th {\n",
       "        vertical-align: top;\n",
       "    }\n",
       "\n",
       "    .dataframe thead th {\n",
       "        text-align: right;\n",
       "    }\n",
       "</style>\n",
       "<table border=\"1\" class=\"dataframe\">\n",
       "  <thead>\n",
       "    <tr style=\"text-align: right;\">\n",
       "      <th></th>\n",
       "      <th>support</th>\n",
       "      <th>itemsets</th>\n",
       "    </tr>\n",
       "  </thead>\n",
       "  <tbody>\n",
       "    <tr>\n",
       "      <th>4</th>\n",
       "      <td>0.431</td>\n",
       "      <td>(CookBks)</td>\n",
       "    </tr>\n",
       "    <tr>\n",
       "      <th>3</th>\n",
       "      <td>0.423</td>\n",
       "      <td>(ChildBks)</td>\n",
       "    </tr>\n",
       "    <tr>\n",
       "      <th>0</th>\n",
       "      <td>0.282</td>\n",
       "      <td>(DoItYBks)</td>\n",
       "    </tr>\n",
       "    <tr>\n",
       "      <th>1</th>\n",
       "      <td>0.276</td>\n",
       "      <td>(GeogBks)</td>\n",
       "    </tr>\n",
       "    <tr>\n",
       "      <th>23</th>\n",
       "      <td>0.256</td>\n",
       "      <td>(CookBks, ChildBks)</td>\n",
       "    </tr>\n",
       "  </tbody>\n",
       "</table>\n",
       "</div>"
      ],
      "text/plain": [
       "    support             itemsets\n",
       "4     0.431            (CookBks)\n",
       "3     0.423           (ChildBks)\n",
       "0     0.282           (DoItYBks)\n",
       "1     0.276            (GeogBks)\n",
       "23    0.256  (CookBks, ChildBks)"
      ]
     },
     "execution_count": 19,
     "metadata": {},
     "output_type": "execute_result"
    }
   ],
   "source": [
    "frequent_itemsets_fp.sort_values(\"support\", ascending = False).head()"
   ]
  },
  {
   "cell_type": "code",
   "execution_count": 20,
   "id": "fe8cbc43",
   "metadata": {
    "ExecuteTime": {
     "end_time": "2022-05-14T04:18:02.797764Z",
     "start_time": "2022-05-14T04:18:02.789968Z"
    }
   },
   "outputs": [
    {
     "name": "stdout",
     "output_type": "stream",
     "text": [
      "(49, 9)\n"
     ]
    }
   ],
   "source": [
    "rules_fp = association_rules(frequent_itemsets_fp, metric=\"confidence\", min_threshold=0.5)\n",
    "print(rules_fp.shape)"
   ]
  },
  {
   "cell_type": "code",
   "execution_count": 21,
   "id": "31b9237d",
   "metadata": {
    "ExecuteTime": {
     "end_time": "2022-05-14T04:18:14.081990Z",
     "start_time": "2022-05-14T04:18:14.058276Z"
    }
   },
   "outputs": [
    {
     "data": {
      "text/html": [
       "<div>\n",
       "<style scoped>\n",
       "    .dataframe tbody tr th:only-of-type {\n",
       "        vertical-align: middle;\n",
       "    }\n",
       "\n",
       "    .dataframe tbody tr th {\n",
       "        vertical-align: top;\n",
       "    }\n",
       "\n",
       "    .dataframe thead th {\n",
       "        text-align: right;\n",
       "    }\n",
       "</style>\n",
       "<table border=\"1\" class=\"dataframe\">\n",
       "  <thead>\n",
       "    <tr style=\"text-align: right;\">\n",
       "      <th></th>\n",
       "      <th>antecedents</th>\n",
       "      <th>consequents</th>\n",
       "      <th>antecedent support</th>\n",
       "      <th>consequent support</th>\n",
       "      <th>support</th>\n",
       "      <th>confidence</th>\n",
       "      <th>lift</th>\n",
       "      <th>leverage</th>\n",
       "      <th>conviction</th>\n",
       "    </tr>\n",
       "  </thead>\n",
       "  <tbody>\n",
       "    <tr>\n",
       "      <th>26</th>\n",
       "      <td>(RefBks)</td>\n",
       "      <td>(CookBks)</td>\n",
       "      <td>0.2145</td>\n",
       "      <td>0.431</td>\n",
       "      <td>0.1525</td>\n",
       "      <td>0.710956</td>\n",
       "      <td>1.649549</td>\n",
       "      <td>0.060050</td>\n",
       "      <td>1.968556</td>\n",
       "    </tr>\n",
       "    <tr>\n",
       "      <th>6</th>\n",
       "      <td>(GeogBks)</td>\n",
       "      <td>(ChildBks)</td>\n",
       "      <td>0.2760</td>\n",
       "      <td>0.423</td>\n",
       "      <td>0.1950</td>\n",
       "      <td>0.706522</td>\n",
       "      <td>1.670264</td>\n",
       "      <td>0.078252</td>\n",
       "      <td>1.966074</td>\n",
       "    </tr>\n",
       "    <tr>\n",
       "      <th>27</th>\n",
       "      <td>(RefBks)</td>\n",
       "      <td>(ChildBks)</td>\n",
       "      <td>0.2145</td>\n",
       "      <td>0.423</td>\n",
       "      <td>0.1515</td>\n",
       "      <td>0.706294</td>\n",
       "      <td>1.669725</td>\n",
       "      <td>0.060767</td>\n",
       "      <td>1.964548</td>\n",
       "    </tr>\n",
       "    <tr>\n",
       "      <th>7</th>\n",
       "      <td>(GeogBks)</td>\n",
       "      <td>(CookBks)</td>\n",
       "      <td>0.2760</td>\n",
       "      <td>0.431</td>\n",
       "      <td>0.1925</td>\n",
       "      <td>0.697464</td>\n",
       "      <td>1.618245</td>\n",
       "      <td>0.073544</td>\n",
       "      <td>1.880766</td>\n",
       "    </tr>\n",
       "    <tr>\n",
       "      <th>34</th>\n",
       "      <td>(ArtBks)</td>\n",
       "      <td>(CookBks)</td>\n",
       "      <td>0.2410</td>\n",
       "      <td>0.431</td>\n",
       "      <td>0.1670</td>\n",
       "      <td>0.692946</td>\n",
       "      <td>1.607763</td>\n",
       "      <td>0.063129</td>\n",
       "      <td>1.853095</td>\n",
       "    </tr>\n",
       "  </tbody>\n",
       "</table>\n",
       "</div>"
      ],
      "text/plain": [
       "   antecedents consequents  antecedent support  consequent support  support  \\\n",
       "26    (RefBks)   (CookBks)              0.2145               0.431   0.1525   \n",
       "6    (GeogBks)  (ChildBks)              0.2760               0.423   0.1950   \n",
       "27    (RefBks)  (ChildBks)              0.2145               0.423   0.1515   \n",
       "7    (GeogBks)   (CookBks)              0.2760               0.431   0.1925   \n",
       "34    (ArtBks)   (CookBks)              0.2410               0.431   0.1670   \n",
       "\n",
       "    confidence      lift  leverage  conviction  \n",
       "26    0.710956  1.649549  0.060050    1.968556  \n",
       "6     0.706522  1.670264  0.078252    1.966074  \n",
       "27    0.706294  1.669725  0.060767    1.964548  \n",
       "7     0.697464  1.618245  0.073544    1.880766  \n",
       "34    0.692946  1.607763  0.063129    1.853095  "
      ]
     },
     "execution_count": 21,
     "metadata": {},
     "output_type": "execute_result"
    }
   ],
   "source": [
    "rules_fp[(rules_fp.support > 0.15) & (rules_fp.confidence > 0.4)].sort_values(\"confidence\", ascending = False).head()"
   ]
  },
  {
   "cell_type": "code",
   "execution_count": 22,
   "id": "1a07b55d",
   "metadata": {
    "ExecuteTime": {
     "end_time": "2022-05-14T04:18:28.234130Z",
     "start_time": "2022-05-14T04:18:28.213541Z"
    }
   },
   "outputs": [
    {
     "data": {
      "text/html": [
       "<div>\n",
       "<style scoped>\n",
       "    .dataframe tbody tr th:only-of-type {\n",
       "        vertical-align: middle;\n",
       "    }\n",
       "\n",
       "    .dataframe tbody tr th {\n",
       "        vertical-align: top;\n",
       "    }\n",
       "\n",
       "    .dataframe thead th {\n",
       "        text-align: right;\n",
       "    }\n",
       "</style>\n",
       "<table border=\"1\" class=\"dataframe\">\n",
       "  <thead>\n",
       "    <tr style=\"text-align: right;\">\n",
       "      <th></th>\n",
       "      <th>antecedents</th>\n",
       "      <th>consequents</th>\n",
       "      <th>antecedent support</th>\n",
       "      <th>consequent support</th>\n",
       "      <th>support</th>\n",
       "      <th>confidence</th>\n",
       "      <th>lift</th>\n",
       "      <th>leverage</th>\n",
       "      <th>conviction</th>\n",
       "      <th>lhs items</th>\n",
       "    </tr>\n",
       "  </thead>\n",
       "  <tbody>\n",
       "    <tr>\n",
       "      <th>47</th>\n",
       "      <td>(ArtBks, ChildBks)</td>\n",
       "      <td>(GeogBks)</td>\n",
       "      <td>0.1625</td>\n",
       "      <td>0.276</td>\n",
       "      <td>0.1020</td>\n",
       "      <td>0.627692</td>\n",
       "      <td>2.274247</td>\n",
       "      <td>0.057150</td>\n",
       "      <td>1.944628</td>\n",
       "      <td>2</td>\n",
       "    </tr>\n",
       "    <tr>\n",
       "      <th>39</th>\n",
       "      <td>(DoItYBks, CookBks)</td>\n",
       "      <td>(ArtBks)</td>\n",
       "      <td>0.1875</td>\n",
       "      <td>0.241</td>\n",
       "      <td>0.1015</td>\n",
       "      <td>0.541333</td>\n",
       "      <td>2.246196</td>\n",
       "      <td>0.056313</td>\n",
       "      <td>1.654797</td>\n",
       "      <td>2</td>\n",
       "    </tr>\n",
       "    <tr>\n",
       "      <th>44</th>\n",
       "      <td>(ArtBks, CookBks)</td>\n",
       "      <td>(GeogBks)</td>\n",
       "      <td>0.1670</td>\n",
       "      <td>0.276</td>\n",
       "      <td>0.1035</td>\n",
       "      <td>0.619760</td>\n",
       "      <td>2.245509</td>\n",
       "      <td>0.057408</td>\n",
       "      <td>1.904063</td>\n",
       "      <td>2</td>\n",
       "    </tr>\n",
       "    <tr>\n",
       "      <th>43</th>\n",
       "      <td>(GeogBks, CookBks)</td>\n",
       "      <td>(ArtBks)</td>\n",
       "      <td>0.1925</td>\n",
       "      <td>0.241</td>\n",
       "      <td>0.1035</td>\n",
       "      <td>0.537662</td>\n",
       "      <td>2.230964</td>\n",
       "      <td>0.057107</td>\n",
       "      <td>1.641657</td>\n",
       "      <td>2</td>\n",
       "    </tr>\n",
       "    <tr>\n",
       "      <th>46</th>\n",
       "      <td>(GeogBks, ChildBks)</td>\n",
       "      <td>(ArtBks)</td>\n",
       "      <td>0.1950</td>\n",
       "      <td>0.241</td>\n",
       "      <td>0.1020</td>\n",
       "      <td>0.523077</td>\n",
       "      <td>2.170444</td>\n",
       "      <td>0.055005</td>\n",
       "      <td>1.591452</td>\n",
       "      <td>2</td>\n",
       "    </tr>\n",
       "  </tbody>\n",
       "</table>\n",
       "</div>"
      ],
      "text/plain": [
       "            antecedents consequents  antecedent support  consequent support  \\\n",
       "47   (ArtBks, ChildBks)   (GeogBks)              0.1625               0.276   \n",
       "39  (DoItYBks, CookBks)    (ArtBks)              0.1875               0.241   \n",
       "44    (ArtBks, CookBks)   (GeogBks)              0.1670               0.276   \n",
       "43   (GeogBks, CookBks)    (ArtBks)              0.1925               0.241   \n",
       "46  (GeogBks, ChildBks)    (ArtBks)              0.1950               0.241   \n",
       "\n",
       "    support  confidence      lift  leverage  conviction  lhs items  \n",
       "47   0.1020    0.627692  2.274247  0.057150    1.944628          2  \n",
       "39   0.1015    0.541333  2.246196  0.056313    1.654797          2  \n",
       "44   0.1035    0.619760  2.245509  0.057408    1.904063          2  \n",
       "43   0.1035    0.537662  2.230964  0.057107    1.641657          2  \n",
       "46   0.1020    0.523077  2.170444  0.055005    1.591452          2  "
      ]
     },
     "execution_count": 22,
     "metadata": {},
     "output_type": "execute_result"
    }
   ],
   "source": [
    "rules_fp['lhs items'] = rules_fp['antecedents'].apply(lambda x:len(x) )\n",
    "rules_fp[rules_fp['lhs items']>1].sort_values('lift', ascending=False).head()"
   ]
  },
  {
   "cell_type": "code",
   "execution_count": 23,
   "id": "0593dbaf",
   "metadata": {
    "ExecuteTime": {
     "end_time": "2022-05-14T04:18:39.284550Z",
     "start_time": "2022-05-14T04:18:39.023458Z"
    }
   },
   "outputs": [
    {
     "data": {
      "text/plain": [
       "(array([0.5, 1.5, 2.5, 3.5, 4.5, 5.5]),\n",
       " [Text(0.5, 0, 'ArtBks'),\n",
       "  Text(1.5, 0, 'ChildBks'),\n",
       "  Text(2.5, 0, 'CookBks'),\n",
       "  Text(3.5, 0, 'DoItYBks'),\n",
       "  Text(4.5, 0, 'GeogBks'),\n",
       "  Text(5.5, 0, 'YouthBks')])"
      ]
     },
     "execution_count": 23,
     "metadata": {},
     "output_type": "execute_result"
    },
    {
     "data": {
      "image/png": "[encoded data removed]",
      "text/plain": [
       "<Figure size 432x288 with 2 Axes>"
      ]
     },
     "metadata": {
      "needs_background": "light"
     },
     "output_type": "display_data"
    }
   ],
   "source": [
    "rules_fp['antecedents_'] = rules_fp['antecedents'].apply(lambda a: ','.join(list(a)))\n",
    "rules_fp['consequents_'] = rules_fp['consequents'].apply(lambda a: ','.join(list(a)))\n",
    "# Transform the DataFrame of rules into a matrix using the confidence metric\n",
    "pivot = rules_fp[rules_fp['lhs items']>1].pivot(index = 'antecedents_', \n",
    "                    columns = 'consequents_', values= 'confidence')\n",
    "# Generate a heatmap with annotations \n",
    "sns.heatmap(pivot, annot = True)\n",
    "plt.title('Heat Map - For Confidence Metric')\n",
    "plt.yticks(rotation=0)\n",
    "plt.xticks(rotation=90)"
   ]
  },
  {
   "cell_type": "code",
   "execution_count": 24,
   "id": "01e68a93",
   "metadata": {
    "ExecuteTime": {
     "end_time": "2022-05-14T04:18:49.260371Z",
     "start_time": "2022-05-14T04:18:49.252418Z"
    }
   },
   "outputs": [
    {
     "name": "stdout",
     "output_type": "stream",
     "text": [
      "(100, 9)\n"
     ]
    }
   ],
   "source": [
    "\n",
    "rules_fp_li = association_rules(frequent_itemsets_fp, metric=\"lift\", min_threshold=0.6)\n",
    "print(rules_fp_li.shape)"
   ]
  },
  {
   "cell_type": "code",
   "execution_count": 25,
   "id": "ad27d0b9",
   "metadata": {
    "ExecuteTime": {
     "end_time": "2022-05-14T04:18:57.713945Z",
     "start_time": "2022-05-14T04:18:57.684125Z"
    }
   },
   "outputs": [
    {
     "data": {
      "text/html": [
       "<div>\n",
       "<style scoped>\n",
       "    .dataframe tbody tr th:only-of-type {\n",
       "        vertical-align: middle;\n",
       "    }\n",
       "\n",
       "    .dataframe tbody tr th {\n",
       "        vertical-align: top;\n",
       "    }\n",
       "\n",
       "    .dataframe thead th {\n",
       "        text-align: right;\n",
       "    }\n",
       "</style>\n",
       "<table border=\"1\" class=\"dataframe\">\n",
       "  <thead>\n",
       "    <tr style=\"text-align: right;\">\n",
       "      <th></th>\n",
       "      <th>antecedents</th>\n",
       "      <th>consequents</th>\n",
       "      <th>antecedent support</th>\n",
       "      <th>consequent support</th>\n",
       "      <th>support</th>\n",
       "      <th>confidence</th>\n",
       "      <th>lift</th>\n",
       "      <th>leverage</th>\n",
       "      <th>conviction</th>\n",
       "      <th>lhs items</th>\n",
       "    </tr>\n",
       "  </thead>\n",
       "  <tbody>\n",
       "    <tr>\n",
       "      <th>94</th>\n",
       "      <td>(ArtBks, ChildBks)</td>\n",
       "      <td>(GeogBks)</td>\n",
       "      <td>0.1625</td>\n",
       "      <td>0.2760</td>\n",
       "      <td>0.1020</td>\n",
       "      <td>0.627692</td>\n",
       "      <td>2.274247</td>\n",
       "      <td>0.057150</td>\n",
       "      <td>1.944628</td>\n",
       "      <td>2</td>\n",
       "    </tr>\n",
       "    <tr>\n",
       "      <th>80</th>\n",
       "      <td>(DoItYBks, CookBks)</td>\n",
       "      <td>(ArtBks)</td>\n",
       "      <td>0.1875</td>\n",
       "      <td>0.2410</td>\n",
       "      <td>0.1015</td>\n",
       "      <td>0.541333</td>\n",
       "      <td>2.246196</td>\n",
       "      <td>0.056313</td>\n",
       "      <td>1.654797</td>\n",
       "      <td>2</td>\n",
       "    </tr>\n",
       "    <tr>\n",
       "      <th>88</th>\n",
       "      <td>(ArtBks, CookBks)</td>\n",
       "      <td>(GeogBks)</td>\n",
       "      <td>0.1670</td>\n",
       "      <td>0.2760</td>\n",
       "      <td>0.1035</td>\n",
       "      <td>0.619760</td>\n",
       "      <td>2.245509</td>\n",
       "      <td>0.057408</td>\n",
       "      <td>1.904063</td>\n",
       "      <td>2</td>\n",
       "    </tr>\n",
       "    <tr>\n",
       "      <th>87</th>\n",
       "      <td>(GeogBks, CookBks)</td>\n",
       "      <td>(ArtBks)</td>\n",
       "      <td>0.1925</td>\n",
       "      <td>0.2410</td>\n",
       "      <td>0.1035</td>\n",
       "      <td>0.537662</td>\n",
       "      <td>2.230964</td>\n",
       "      <td>0.057107</td>\n",
       "      <td>1.641657</td>\n",
       "      <td>2</td>\n",
       "    </tr>\n",
       "    <tr>\n",
       "      <th>60</th>\n",
       "      <td>(CookBks, ChildBks)</td>\n",
       "      <td>(RefBks)</td>\n",
       "      <td>0.2560</td>\n",
       "      <td>0.2145</td>\n",
       "      <td>0.1225</td>\n",
       "      <td>0.478516</td>\n",
       "      <td>2.230842</td>\n",
       "      <td>0.067588</td>\n",
       "      <td>1.506277</td>\n",
       "      <td>2</td>\n",
       "    </tr>\n",
       "  </tbody>\n",
       "</table>\n",
       "</div>"
      ],
      "text/plain": [
       "            antecedents consequents  antecedent support  consequent support  \\\n",
       "94   (ArtBks, ChildBks)   (GeogBks)              0.1625              0.2760   \n",
       "80  (DoItYBks, CookBks)    (ArtBks)              0.1875              0.2410   \n",
       "88    (ArtBks, CookBks)   (GeogBks)              0.1670              0.2760   \n",
       "87   (GeogBks, CookBks)    (ArtBks)              0.1925              0.2410   \n",
       "60  (CookBks, ChildBks)    (RefBks)              0.2560              0.2145   \n",
       "\n",
       "    support  confidence      lift  leverage  conviction  lhs items  \n",
       "94   0.1020    0.627692  2.274247  0.057150    1.944628          2  \n",
       "80   0.1015    0.541333  2.246196  0.056313    1.654797          2  \n",
       "88   0.1035    0.619760  2.245509  0.057408    1.904063          2  \n",
       "87   0.1035    0.537662  2.230964  0.057107    1.641657          2  \n",
       "60   0.1225    0.478516  2.230842  0.067588    1.506277          2  "
      ]
     },
     "execution_count": 25,
     "metadata": {},
     "output_type": "execute_result"
    }
   ],
   "source": [
    "\n",
    "rules_fp_li['lhs items'] = rules_fp_li['antecedents'].apply(lambda x:len(x) )\n",
    "rules_fp_li[rules_fp_li['lhs items']>1].sort_values('lift', ascending=False).head()"
   ]
  },
  {
   "cell_type": "code",
   "execution_count": null,
   "id": "b02e3eab",
   "metadata": {},
   "outputs": [],
   "source": []
  },
  {
   "cell_type": "code",
   "execution_count": null,
   "id": "0dcc8ea3",
   "metadata": {},
   "outputs": [],
   "source": []
  },
  {
   "cell_type": "code",
   "execution_count": null,
   "id": "90348701",
   "metadata": {},
   "outputs": [],
   "source": []
  },
  {
   "cell_type": "code",
   "execution_count": null,
   "id": "24d9d808",
   "metadata": {},
   "outputs": [],
   "source": []
  },
  {
   "cell_type": "code",
   "execution_count": null,
   "id": "381f8cc3",
   "metadata": {},
   "outputs": [],
   "source": []
  },
  {
   "cell_type": "code",
   "execution_count": null,
   "id": "14f65864",
   "metadata": {},
   "outputs": [],
   "source": []
  },
  {
   "cell_type": "code",
   "execution_count": null,
   "id": "174abb8a",
   "metadata": {},
   "outputs": [],
   "source": []
  },
  {
   "cell_type": "code",
   "execution_count": null,
   "id": "b9dcca91",
   "metadata": {},
   "outputs": [],
   "source": []
  },
  {
   "cell_type": "code",
   "execution_count": null,
   "id": "99655888",
   "metadata": {},
   "outputs": [],
   "source": []
  },
  {
   "cell_type": "code",
   "execution_count": null,
   "id": "c9549221",
   "metadata": {},
   "outputs": [],
   "source": []
  },
  {
   "cell_type": "code",
   "execution_count": null,
   "id": "76c7dce0",
   "metadata": {},
   "outputs": [],
   "source": []
  },
  {
   "cell_type": "code",
   "execution_count": null,
   "id": "6b16165d",
   "metadata": {},
   "outputs": [],
   "source": []
  },
  {
   "cell_type": "code",
   "execution_count": null,
   "id": "475b8367",
   "metadata": {},
   "outputs": [],
   "source": []
  },
  {
   "cell_type": "code",
   "execution_count": null,
   "id": "47c308cf",
   "metadata": {},
   "outputs": [],
   "source": []
  },
  {
   "cell_type": "markdown",
   "id": "f1d06a4b",
   "metadata": {},
   "source": [
    "## mymovies data set "
   ]
  },
  {
   "cell_type": "code",
   "execution_count": 28,
   "id": "12a053a7",
   "metadata": {
    "ExecuteTime": {
     "end_time": "2022-05-14T04:19:33.967559Z",
     "start_time": "2022-05-14T04:19:33.961717Z"
    }
   },
   "outputs": [],
   "source": [
    "import pandas as pd \n",
    "import numpy as np \n",
    "import matplotlib.pyplot as plt \n",
    "from mlxtend.frequent_patterns import apriori,association_rules\n",
    "from mlxtend.preprocessing import TransactionEncoder"
   ]
  },
  {
   "cell_type": "code",
   "execution_count": 30,
   "id": "b23299db",
   "metadata": {
    "ExecuteTime": {
     "end_time": "2022-05-14T04:23:45.126734Z",
     "start_time": "2022-05-14T04:23:45.092819Z"
    }
   },
   "outputs": [
    {
     "data": {
      "text/html": [
       "<div>\n",
       "<style scoped>\n",
       "    .dataframe tbody tr th:only-of-type {\n",
       "        vertical-align: middle;\n",
       "    }\n",
       "\n",
       "    .dataframe tbody tr th {\n",
       "        vertical-align: top;\n",
       "    }\n",
       "\n",
       "    .dataframe thead th {\n",
       "        text-align: right;\n",
       "    }\n",
       "</style>\n",
       "<table border=\"1\" class=\"dataframe\">\n",
       "  <thead>\n",
       "    <tr style=\"text-align: right;\">\n",
       "      <th></th>\n",
       "      <th>V1</th>\n",
       "      <th>V2</th>\n",
       "      <th>V3</th>\n",
       "      <th>V4</th>\n",
       "      <th>V5</th>\n",
       "      <th>Sixth Sense</th>\n",
       "      <th>Gladiator</th>\n",
       "      <th>LOTR1</th>\n",
       "      <th>Harry Potter1</th>\n",
       "      <th>Patriot</th>\n",
       "      <th>LOTR2</th>\n",
       "      <th>Harry Potter2</th>\n",
       "      <th>LOTR</th>\n",
       "      <th>Braveheart</th>\n",
       "      <th>Green Mile</th>\n",
       "    </tr>\n",
       "  </thead>\n",
       "  <tbody>\n",
       "    <tr>\n",
       "      <th>0</th>\n",
       "      <td>Sixth Sense</td>\n",
       "      <td>LOTR1</td>\n",
       "      <td>Harry Potter1</td>\n",
       "      <td>Green Mile</td>\n",
       "      <td>LOTR2</td>\n",
       "      <td>1</td>\n",
       "      <td>0</td>\n",
       "      <td>1</td>\n",
       "      <td>1</td>\n",
       "      <td>0</td>\n",
       "      <td>1</td>\n",
       "      <td>0</td>\n",
       "      <td>0</td>\n",
       "      <td>0</td>\n",
       "      <td>1</td>\n",
       "    </tr>\n",
       "    <tr>\n",
       "      <th>1</th>\n",
       "      <td>Gladiator</td>\n",
       "      <td>Patriot</td>\n",
       "      <td>Braveheart</td>\n",
       "      <td>NaN</td>\n",
       "      <td>NaN</td>\n",
       "      <td>0</td>\n",
       "      <td>1</td>\n",
       "      <td>0</td>\n",
       "      <td>0</td>\n",
       "      <td>1</td>\n",
       "      <td>0</td>\n",
       "      <td>0</td>\n",
       "      <td>0</td>\n",
       "      <td>1</td>\n",
       "      <td>0</td>\n",
       "    </tr>\n",
       "    <tr>\n",
       "      <th>2</th>\n",
       "      <td>LOTR1</td>\n",
       "      <td>LOTR2</td>\n",
       "      <td>NaN</td>\n",
       "      <td>NaN</td>\n",
       "      <td>NaN</td>\n",
       "      <td>0</td>\n",
       "      <td>0</td>\n",
       "      <td>1</td>\n",
       "      <td>0</td>\n",
       "      <td>0</td>\n",
       "      <td>1</td>\n",
       "      <td>0</td>\n",
       "      <td>0</td>\n",
       "      <td>0</td>\n",
       "      <td>0</td>\n",
       "    </tr>\n",
       "    <tr>\n",
       "      <th>3</th>\n",
       "      <td>Gladiator</td>\n",
       "      <td>Patriot</td>\n",
       "      <td>Sixth Sense</td>\n",
       "      <td>NaN</td>\n",
       "      <td>NaN</td>\n",
       "      <td>1</td>\n",
       "      <td>1</td>\n",
       "      <td>0</td>\n",
       "      <td>0</td>\n",
       "      <td>1</td>\n",
       "      <td>0</td>\n",
       "      <td>0</td>\n",
       "      <td>0</td>\n",
       "      <td>0</td>\n",
       "      <td>0</td>\n",
       "    </tr>\n",
       "    <tr>\n",
       "      <th>4</th>\n",
       "      <td>Gladiator</td>\n",
       "      <td>Patriot</td>\n",
       "      <td>Sixth Sense</td>\n",
       "      <td>NaN</td>\n",
       "      <td>NaN</td>\n",
       "      <td>1</td>\n",
       "      <td>1</td>\n",
       "      <td>0</td>\n",
       "      <td>0</td>\n",
       "      <td>1</td>\n",
       "      <td>0</td>\n",
       "      <td>0</td>\n",
       "      <td>0</td>\n",
       "      <td>0</td>\n",
       "      <td>0</td>\n",
       "    </tr>\n",
       "    <tr>\n",
       "      <th>5</th>\n",
       "      <td>Gladiator</td>\n",
       "      <td>Patriot</td>\n",
       "      <td>Sixth Sense</td>\n",
       "      <td>NaN</td>\n",
       "      <td>NaN</td>\n",
       "      <td>1</td>\n",
       "      <td>1</td>\n",
       "      <td>0</td>\n",
       "      <td>0</td>\n",
       "      <td>1</td>\n",
       "      <td>0</td>\n",
       "      <td>0</td>\n",
       "      <td>0</td>\n",
       "      <td>0</td>\n",
       "      <td>0</td>\n",
       "    </tr>\n",
       "    <tr>\n",
       "      <th>6</th>\n",
       "      <td>Harry Potter1</td>\n",
       "      <td>Harry Potter2</td>\n",
       "      <td>NaN</td>\n",
       "      <td>NaN</td>\n",
       "      <td>NaN</td>\n",
       "      <td>0</td>\n",
       "      <td>0</td>\n",
       "      <td>0</td>\n",
       "      <td>1</td>\n",
       "      <td>0</td>\n",
       "      <td>0</td>\n",
       "      <td>1</td>\n",
       "      <td>0</td>\n",
       "      <td>0</td>\n",
       "      <td>0</td>\n",
       "    </tr>\n",
       "    <tr>\n",
       "      <th>7</th>\n",
       "      <td>Gladiator</td>\n",
       "      <td>Patriot</td>\n",
       "      <td>NaN</td>\n",
       "      <td>NaN</td>\n",
       "      <td>NaN</td>\n",
       "      <td>0</td>\n",
       "      <td>1</td>\n",
       "      <td>0</td>\n",
       "      <td>0</td>\n",
       "      <td>1</td>\n",
       "      <td>0</td>\n",
       "      <td>0</td>\n",
       "      <td>0</td>\n",
       "      <td>0</td>\n",
       "      <td>0</td>\n",
       "    </tr>\n",
       "    <tr>\n",
       "      <th>8</th>\n",
       "      <td>Gladiator</td>\n",
       "      <td>Patriot</td>\n",
       "      <td>Sixth Sense</td>\n",
       "      <td>NaN</td>\n",
       "      <td>NaN</td>\n",
       "      <td>1</td>\n",
       "      <td>1</td>\n",
       "      <td>0</td>\n",
       "      <td>0</td>\n",
       "      <td>1</td>\n",
       "      <td>0</td>\n",
       "      <td>0</td>\n",
       "      <td>0</td>\n",
       "      <td>0</td>\n",
       "      <td>0</td>\n",
       "    </tr>\n",
       "    <tr>\n",
       "      <th>9</th>\n",
       "      <td>Sixth Sense</td>\n",
       "      <td>LOTR</td>\n",
       "      <td>Gladiator</td>\n",
       "      <td>Green Mile</td>\n",
       "      <td>NaN</td>\n",
       "      <td>1</td>\n",
       "      <td>1</td>\n",
       "      <td>0</td>\n",
       "      <td>0</td>\n",
       "      <td>0</td>\n",
       "      <td>0</td>\n",
       "      <td>0</td>\n",
       "      <td>1</td>\n",
       "      <td>0</td>\n",
       "      <td>1</td>\n",
       "    </tr>\n",
       "  </tbody>\n",
       "</table>\n",
       "</div>"
      ],
      "text/plain": [
       "              V1             V2             V3          V4     V5  \\\n",
       "0    Sixth Sense          LOTR1  Harry Potter1  Green Mile  LOTR2   \n",
       "1      Gladiator        Patriot     Braveheart         NaN    NaN   \n",
       "2          LOTR1          LOTR2            NaN         NaN    NaN   \n",
       "3      Gladiator        Patriot    Sixth Sense         NaN    NaN   \n",
       "4      Gladiator        Patriot    Sixth Sense         NaN    NaN   \n",
       "5      Gladiator        Patriot    Sixth Sense         NaN    NaN   \n",
       "6  Harry Potter1  Harry Potter2            NaN         NaN    NaN   \n",
       "7      Gladiator        Patriot            NaN         NaN    NaN   \n",
       "8      Gladiator        Patriot    Sixth Sense         NaN    NaN   \n",
       "9    Sixth Sense           LOTR      Gladiator  Green Mile    NaN   \n",
       "\n",
       "   Sixth Sense  Gladiator  LOTR1  Harry Potter1  Patriot  LOTR2  \\\n",
       "0            1          0      1              1        0      1   \n",
       "1            0          1      0              0        1      0   \n",
       "2            0          0      1              0        0      1   \n",
       "3            1          1      0              0        1      0   \n",
       "4            1          1      0              0        1      0   \n",
       "5            1          1      0              0        1      0   \n",
       "6            0          0      0              1        0      0   \n",
       "7            0          1      0              0        1      0   \n",
       "8            1          1      0              0        1      0   \n",
       "9            1          1      0              0        0      0   \n",
       "\n",
       "   Harry Potter2  LOTR  Braveheart  Green Mile  \n",
       "0              0     0           0           1  \n",
       "1              0     0           1           0  \n",
       "2              0     0           0           0  \n",
       "3              0     0           0           0  \n",
       "4              0     0           0           0  \n",
       "5              0     0           0           0  \n",
       "6              1     0           0           0  \n",
       "7              0     0           0           0  \n",
       "8              0     0           0           0  \n",
       "9              0     1           0           1  "
      ]
     },
     "execution_count": 30,
     "metadata": {},
     "output_type": "execute_result"
    }
   ],
   "source": [
    "movie=pd.read_csv(\"my_movies.csv\")\n",
    "movie"
   ]
  },
  {
   "cell_type": "code",
   "execution_count": 31,
   "id": "7bbf349d",
   "metadata": {
    "ExecuteTime": {
     "end_time": "2022-05-14T04:23:46.030333Z",
     "start_time": "2022-05-14T04:23:46.001958Z"
    }
   },
   "outputs": [
    {
     "name": "stdout",
     "output_type": "stream",
     "text": [
      "Categorical variables:\n",
      "['V1', 'V2', 'V3', 'V4', 'V5']\n"
     ]
    }
   ],
   "source": [
    "s = (movie.dtypes == 'object')\n",
    "object_cols = list(s[s].index)\n",
    "\n",
    "print(\"Categorical variables:\")\n",
    "print(object_cols)\n"
   ]
  },
  {
   "cell_type": "code",
   "execution_count": 32,
   "id": "6a307c8f",
   "metadata": {
    "ExecuteTime": {
     "end_time": "2022-05-14T04:23:56.866781Z",
     "start_time": "2022-05-14T04:23:56.846816Z"
    }
   },
   "outputs": [
    {
     "data": {
      "text/html": [
       "<div>\n",
       "<style scoped>\n",
       "    .dataframe tbody tr th:only-of-type {\n",
       "        vertical-align: middle;\n",
       "    }\n",
       "\n",
       "    .dataframe tbody tr th {\n",
       "        vertical-align: top;\n",
       "    }\n",
       "\n",
       "    .dataframe thead th {\n",
       "        text-align: right;\n",
       "    }\n",
       "</style>\n",
       "<table border=\"1\" class=\"dataframe\">\n",
       "  <thead>\n",
       "    <tr style=\"text-align: right;\">\n",
       "      <th></th>\n",
       "      <th>Sixth Sense</th>\n",
       "      <th>Gladiator</th>\n",
       "      <th>LOTR1</th>\n",
       "      <th>Harry Potter1</th>\n",
       "      <th>Patriot</th>\n",
       "      <th>LOTR2</th>\n",
       "      <th>Harry Potter2</th>\n",
       "      <th>LOTR</th>\n",
       "      <th>Braveheart</th>\n",
       "      <th>Green Mile</th>\n",
       "    </tr>\n",
       "  </thead>\n",
       "  <tbody>\n",
       "    <tr>\n",
       "      <th>0</th>\n",
       "      <td>1</td>\n",
       "      <td>0</td>\n",
       "      <td>1</td>\n",
       "      <td>1</td>\n",
       "      <td>0</td>\n",
       "      <td>1</td>\n",
       "      <td>0</td>\n",
       "      <td>0</td>\n",
       "      <td>0</td>\n",
       "      <td>1</td>\n",
       "    </tr>\n",
       "    <tr>\n",
       "      <th>1</th>\n",
       "      <td>0</td>\n",
       "      <td>1</td>\n",
       "      <td>0</td>\n",
       "      <td>0</td>\n",
       "      <td>1</td>\n",
       "      <td>0</td>\n",
       "      <td>0</td>\n",
       "      <td>0</td>\n",
       "      <td>1</td>\n",
       "      <td>0</td>\n",
       "    </tr>\n",
       "    <tr>\n",
       "      <th>2</th>\n",
       "      <td>0</td>\n",
       "      <td>0</td>\n",
       "      <td>1</td>\n",
       "      <td>0</td>\n",
       "      <td>0</td>\n",
       "      <td>1</td>\n",
       "      <td>0</td>\n",
       "      <td>0</td>\n",
       "      <td>0</td>\n",
       "      <td>0</td>\n",
       "    </tr>\n",
       "    <tr>\n",
       "      <th>3</th>\n",
       "      <td>1</td>\n",
       "      <td>1</td>\n",
       "      <td>0</td>\n",
       "      <td>0</td>\n",
       "      <td>1</td>\n",
       "      <td>0</td>\n",
       "      <td>0</td>\n",
       "      <td>0</td>\n",
       "      <td>0</td>\n",
       "      <td>0</td>\n",
       "    </tr>\n",
       "    <tr>\n",
       "      <th>4</th>\n",
       "      <td>1</td>\n",
       "      <td>1</td>\n",
       "      <td>0</td>\n",
       "      <td>0</td>\n",
       "      <td>1</td>\n",
       "      <td>0</td>\n",
       "      <td>0</td>\n",
       "      <td>0</td>\n",
       "      <td>0</td>\n",
       "      <td>0</td>\n",
       "    </tr>\n",
       "  </tbody>\n",
       "</table>\n",
       "</div>"
      ],
      "text/plain": [
       "   Sixth Sense  Gladiator  LOTR1  Harry Potter1  Patriot  LOTR2  \\\n",
       "0            1          0      1              1        0      1   \n",
       "1            0          1      0              0        1      0   \n",
       "2            0          0      1              0        0      1   \n",
       "3            1          1      0              0        1      0   \n",
       "4            1          1      0              0        1      0   \n",
       "\n",
       "   Harry Potter2  LOTR  Braveheart  Green Mile  \n",
       "0              0     0           0           1  \n",
       "1              0     0           1           0  \n",
       "2              0     0           0           0  \n",
       "3              0     0           0           0  \n",
       "4              0     0           0           0  "
      ]
     },
     "execution_count": 32,
     "metadata": {},
     "output_type": "execute_result"
    }
   ],
   "source": [
    "num_movie = movie.iloc[:,5:15]\n",
    "num_movie.head()"
   ]
  },
  {
   "cell_type": "markdown",
   "id": "98b19315",
   "metadata": {},
   "source": [
    "##### Apriori Algorithm"
   ]
  },
  {
   "cell_type": "code",
   "execution_count": 33,
   "id": "cedf633e",
   "metadata": {
    "ExecuteTime": {
     "end_time": "2022-05-14T04:24:50.928168Z",
     "start_time": "2022-05-14T04:24:50.902858Z"
    }
   },
   "outputs": [
    {
     "name": "stdout",
     "output_type": "stream",
     "text": [
      "\r",
      "Processing 42 combinations | Sampling itemset size 2\r",
      "Processing 27 combinations | Sampling itemset size 3\n",
      "   support         itemsets\n",
      "0      0.6    (Sixth Sense)\n",
      "1      0.7      (Gladiator)\n",
      "2      0.2          (LOTR1)\n",
      "3      0.2  (Harry Potter1)\n",
      "4      0.6        (Patriot)\n"
     ]
    }
   ],
   "source": [
    "frequent_itemsets_ap = apriori(num_movie, min_support=0.15, use_colnames=True,verbose=1)\n",
    "print(frequent_itemsets_ap.head())"
   ]
  },
  {
   "cell_type": "code",
   "execution_count": 34,
   "id": "f157d522",
   "metadata": {
    "ExecuteTime": {
     "end_time": "2022-05-14T04:25:00.850823Z",
     "start_time": "2022-05-14T04:25:00.836172Z"
    }
   },
   "outputs": [
    {
     "data": {
      "text/plain": [
       "(13, 2)"
      ]
     },
     "execution_count": 34,
     "metadata": {},
     "output_type": "execute_result"
    }
   ],
   "source": [
    "frequent_itemsets_ap.sort_values(\"support\", ascending = False).shape"
   ]
  },
  {
   "cell_type": "code",
   "execution_count": 35,
   "id": "0d5425cb",
   "metadata": {
    "ExecuteTime": {
     "end_time": "2022-05-14T04:25:08.937822Z",
     "start_time": "2022-05-14T04:25:08.919251Z"
    }
   },
   "outputs": [
    {
     "name": "stdout",
     "output_type": "stream",
     "text": [
      "     antecedents    consequents  antecedent support  consequent support  \\\n",
      "0    (Gladiator)  (Sixth Sense)                 0.7                 0.6   \n",
      "1  (Sixth Sense)    (Gladiator)                 0.6                 0.7   \n",
      "2      (Patriot)  (Sixth Sense)                 0.6                 0.6   \n",
      "3  (Sixth Sense)      (Patriot)                 0.6                 0.6   \n",
      "4   (Green Mile)  (Sixth Sense)                 0.2                 0.6   \n",
      "\n",
      "   support  confidence      lift  leverage  conviction  \n",
      "0      0.5    0.714286  1.190476      0.08         1.4  \n",
      "1      0.5    0.833333  1.190476      0.08         1.8  \n",
      "2      0.4    0.666667  1.111111      0.04         1.2  \n",
      "3      0.4    0.666667  1.111111      0.04         1.2  \n",
      "4      0.2    1.000000  1.666667      0.08         inf  \n"
     ]
    }
   ],
   "source": [
    "rules_ap = association_rules(frequent_itemsets_ap, metric=\"confidence\", min_threshold=0.1)\n",
    "print(rules_ap.head())"
   ]
  },
  {
   "cell_type": "code",
   "execution_count": 36,
   "id": "771d5cde",
   "metadata": {
    "ExecuteTime": {
     "end_time": "2022-05-14T04:25:20.769493Z",
     "start_time": "2022-05-14T04:25:20.751996Z"
    }
   },
   "outputs": [
    {
     "data": {
      "text/html": [
       "<div>\n",
       "<style scoped>\n",
       "    .dataframe tbody tr th:only-of-type {\n",
       "        vertical-align: middle;\n",
       "    }\n",
       "\n",
       "    .dataframe tbody tr th {\n",
       "        vertical-align: top;\n",
       "    }\n",
       "\n",
       "    .dataframe thead th {\n",
       "        text-align: right;\n",
       "    }\n",
       "</style>\n",
       "<table border=\"1\" class=\"dataframe\">\n",
       "  <thead>\n",
       "    <tr style=\"text-align: right;\">\n",
       "      <th></th>\n",
       "      <th>antecedents</th>\n",
       "      <th>consequents</th>\n",
       "      <th>antecedent support</th>\n",
       "      <th>consequent support</th>\n",
       "      <th>support</th>\n",
       "      <th>confidence</th>\n",
       "      <th>lift</th>\n",
       "      <th>leverage</th>\n",
       "      <th>conviction</th>\n",
       "      <th>lhs items</th>\n",
       "    </tr>\n",
       "  </thead>\n",
       "  <tbody>\n",
       "    <tr>\n",
       "      <th>11</th>\n",
       "      <td>(Sixth Sense, Patriot)</td>\n",
       "      <td>(Gladiator)</td>\n",
       "      <td>0.4</td>\n",
       "      <td>0.7</td>\n",
       "      <td>0.4</td>\n",
       "      <td>1.000000</td>\n",
       "      <td>1.428571</td>\n",
       "      <td>0.12</td>\n",
       "      <td>inf</td>\n",
       "      <td>2</td>\n",
       "    </tr>\n",
       "    <tr>\n",
       "      <th>12</th>\n",
       "      <td>(Sixth Sense, Gladiator)</td>\n",
       "      <td>(Patriot)</td>\n",
       "      <td>0.5</td>\n",
       "      <td>0.6</td>\n",
       "      <td>0.4</td>\n",
       "      <td>0.800000</td>\n",
       "      <td>1.333333</td>\n",
       "      <td>0.10</td>\n",
       "      <td>2.0</td>\n",
       "      <td>2</td>\n",
       "    </tr>\n",
       "    <tr>\n",
       "      <th>10</th>\n",
       "      <td>(Gladiator, Patriot)</td>\n",
       "      <td>(Sixth Sense)</td>\n",
       "      <td>0.6</td>\n",
       "      <td>0.6</td>\n",
       "      <td>0.4</td>\n",
       "      <td>0.666667</td>\n",
       "      <td>1.111111</td>\n",
       "      <td>0.04</td>\n",
       "      <td>1.2</td>\n",
       "      <td>2</td>\n",
       "    </tr>\n",
       "  </tbody>\n",
       "</table>\n",
       "</div>"
      ],
      "text/plain": [
       "                 antecedents    consequents  antecedent support  \\\n",
       "11    (Sixth Sense, Patriot)    (Gladiator)                 0.4   \n",
       "12  (Sixth Sense, Gladiator)      (Patriot)                 0.5   \n",
       "10      (Gladiator, Patriot)  (Sixth Sense)                 0.6   \n",
       "\n",
       "    consequent support  support  confidence      lift  leverage  conviction  \\\n",
       "11                 0.7      0.4    1.000000  1.428571      0.12         inf   \n",
       "12                 0.6      0.4    0.800000  1.333333      0.10         2.0   \n",
       "10                 0.6      0.4    0.666667  1.111111      0.04         1.2   \n",
       "\n",
       "    lhs items  \n",
       "11          2  \n",
       "12          2  \n",
       "10          2  "
      ]
     },
     "execution_count": 36,
     "metadata": {},
     "output_type": "execute_result"
    }
   ],
   "source": [
    "rules_ap['lhs items'] = rules_ap['antecedents'].apply(lambda x:len(x) )\n",
    "rules_ap[rules_ap['lhs items']>1].sort_values('lift', ascending=False).head()"
   ]
  },
  {
   "cell_type": "code",
   "execution_count": 37,
   "id": "b193b00f",
   "metadata": {
    "ExecuteTime": {
     "end_time": "2022-05-14T04:25:31.482346Z",
     "start_time": "2022-05-14T04:25:31.329309Z"
    }
   },
   "outputs": [
    {
     "data": {
      "text/plain": [
       "(array([0.5, 1.5, 2.5]),\n",
       " [Text(0.5, 0, 'Gladiator'),\n",
       "  Text(1.5, 0, 'Patriot'),\n",
       "  Text(2.5, 0, 'Sixth Sense')])"
      ]
     },
     "execution_count": 37,
     "metadata": {},
     "output_type": "execute_result"
    },
    {
     "data": {
      "image/png": "[encoded data removed]",
      "text/plain": [
       "<Figure size 432x288 with 2 Axes>"
      ]
     },
     "metadata": {
      "needs_background": "light"
     },
     "output_type": "display_data"
    }
   ],
   "source": [
    "rules_ap['antecedents_'] = rules_ap['antecedents'].apply(lambda a: ','.join(list(a)))\n",
    "rules_ap['consequents_'] = rules_ap['consequents'].apply(lambda a: ','.join(list(a)))\n",
    "# Transform the DataFrame of rules into a matrix using the confidence metric\n",
    "pivot = rules_ap[rules_ap['lhs items']>1].pivot(index = 'antecedents_', \n",
    "                    columns = 'consequents_', values= 'confidence')\n",
    "# Generate a heatmap with annotations \n",
    "sns.heatmap(pivot, annot = True)\n",
    "plt.title('Heat Map - For Confidence Metric')\n",
    "plt.yticks(rotation=0)\n",
    "plt.xticks(rotation=90)"
   ]
  },
  {
   "cell_type": "code",
   "execution_count": 38,
   "id": "1a0d4fd0",
   "metadata": {
    "ExecuteTime": {
     "end_time": "2022-05-14T04:25:40.222027Z",
     "start_time": "2022-05-14T04:25:40.208215Z"
    }
   },
   "outputs": [
    {
     "name": "stdout",
     "output_type": "stream",
     "text": [
      "(16, 9)\n"
     ]
    }
   ],
   "source": [
    "rules_ap_li = association_rules(frequent_itemsets_ap, metric=\"lift\", min_threshold=0.8)\n",
    "print(rules_ap_li.shape)"
   ]
  },
  {
   "cell_type": "code",
   "execution_count": 39,
   "id": "1d545a6f",
   "metadata": {
    "ExecuteTime": {
     "end_time": "2022-05-14T04:25:51.199537Z",
     "start_time": "2022-05-14T04:25:51.165925Z"
    }
   },
   "outputs": [
    {
     "data": {
      "text/html": [
       "<div>\n",
       "<style scoped>\n",
       "    .dataframe tbody tr th:only-of-type {\n",
       "        vertical-align: middle;\n",
       "    }\n",
       "\n",
       "    .dataframe tbody tr th {\n",
       "        vertical-align: top;\n",
       "    }\n",
       "\n",
       "    .dataframe thead th {\n",
       "        text-align: right;\n",
       "    }\n",
       "</style>\n",
       "<table border=\"1\" class=\"dataframe\">\n",
       "  <thead>\n",
       "    <tr style=\"text-align: right;\">\n",
       "      <th></th>\n",
       "      <th>antecedents</th>\n",
       "      <th>consequents</th>\n",
       "      <th>antecedent support</th>\n",
       "      <th>consequent support</th>\n",
       "      <th>support</th>\n",
       "      <th>confidence</th>\n",
       "      <th>lift</th>\n",
       "      <th>leverage</th>\n",
       "      <th>conviction</th>\n",
       "      <th>lhs items</th>\n",
       "    </tr>\n",
       "  </thead>\n",
       "  <tbody>\n",
       "    <tr>\n",
       "      <th>11</th>\n",
       "      <td>(Sixth Sense, Patriot)</td>\n",
       "      <td>(Gladiator)</td>\n",
       "      <td>0.4</td>\n",
       "      <td>0.7</td>\n",
       "      <td>0.4</td>\n",
       "      <td>1.000000</td>\n",
       "      <td>1.428571</td>\n",
       "      <td>0.12</td>\n",
       "      <td>inf</td>\n",
       "      <td>2</td>\n",
       "    </tr>\n",
       "    <tr>\n",
       "      <th>12</th>\n",
       "      <td>(Sixth Sense, Gladiator)</td>\n",
       "      <td>(Patriot)</td>\n",
       "      <td>0.5</td>\n",
       "      <td>0.6</td>\n",
       "      <td>0.4</td>\n",
       "      <td>0.800000</td>\n",
       "      <td>1.333333</td>\n",
       "      <td>0.10</td>\n",
       "      <td>2.0</td>\n",
       "      <td>2</td>\n",
       "    </tr>\n",
       "    <tr>\n",
       "      <th>10</th>\n",
       "      <td>(Gladiator, Patriot)</td>\n",
       "      <td>(Sixth Sense)</td>\n",
       "      <td>0.6</td>\n",
       "      <td>0.6</td>\n",
       "      <td>0.4</td>\n",
       "      <td>0.666667</td>\n",
       "      <td>1.111111</td>\n",
       "      <td>0.04</td>\n",
       "      <td>1.2</td>\n",
       "      <td>2</td>\n",
       "    </tr>\n",
       "  </tbody>\n",
       "</table>\n",
       "</div>"
      ],
      "text/plain": [
       "                 antecedents    consequents  antecedent support  \\\n",
       "11    (Sixth Sense, Patriot)    (Gladiator)                 0.4   \n",
       "12  (Sixth Sense, Gladiator)      (Patriot)                 0.5   \n",
       "10      (Gladiator, Patriot)  (Sixth Sense)                 0.6   \n",
       "\n",
       "    consequent support  support  confidence      lift  leverage  conviction  \\\n",
       "11                 0.7      0.4    1.000000  1.428571      0.12         inf   \n",
       "12                 0.6      0.4    0.800000  1.333333      0.10         2.0   \n",
       "10                 0.6      0.4    0.666667  1.111111      0.04         1.2   \n",
       "\n",
       "    lhs items  \n",
       "11          2  \n",
       "12          2  \n",
       "10          2  "
      ]
     },
     "execution_count": 39,
     "metadata": {},
     "output_type": "execute_result"
    }
   ],
   "source": [
    "rules_ap_li['lhs items'] = rules_ap_li['antecedents'].apply(lambda x:len(x) )\n",
    "rules_ap_li[rules_ap_li['lhs items']>1].sort_values('lift', ascending=False).head()"
   ]
  },
  {
   "cell_type": "code",
   "execution_count": 40,
   "id": "35727ba4",
   "metadata": {
    "ExecuteTime": {
     "end_time": "2022-05-14T04:26:04.868539Z",
     "start_time": "2022-05-14T04:26:04.708910Z"
    }
   },
   "outputs": [
    {
     "data": {
      "text/plain": [
       "(array([0.5, 1.5, 2.5]),\n",
       " [Text(0.5, 0, 'Gladiator'),\n",
       "  Text(1.5, 0, 'Patriot'),\n",
       "  Text(2.5, 0, 'Sixth Sense')])"
      ]
     },
     "execution_count": 40,
     "metadata": {},
     "output_type": "execute_result"
    },
    {
     "data": {
      "image/png": "[encoded data removed]",
      "text/plain": [
       "<Figure size 432x288 with 2 Axes>"
      ]
     },
     "metadata": {
      "needs_background": "light"
     },
     "output_type": "display_data"
    }
   ],
   "source": [
    "rules_ap_li['antecedents_'] = rules_ap_li['antecedents'].apply(lambda a: ','.join(list(a)))\n",
    "rules_ap_li['consequents_'] = rules_ap_li['consequents'].apply(lambda a: ','.join(list(a)))\n",
    "# Transform the DataFrame of rules into a matrix using the lift metric\n",
    "pivot = rules_ap_li[rules_ap_li['lhs items']>1].pivot(index = 'antecedents_', \n",
    "                    columns = 'consequents_', values= 'lift')\n",
    "# Generate a heatmap with annotations on and the colorbar off\n",
    "sns.heatmap(pivot, annot = True)\n",
    "plt.title('Heat Map - For Lift Metric')\n",
    "plt.yticks(rotation=0)\n",
    "plt.xticks(rotation=90)"
   ]
  },
  {
   "cell_type": "markdown",
   "id": "dbbd6cfa",
   "metadata": {},
   "source": [
    "#####  FpGrowth Algorithm"
   ]
  },
  {
   "cell_type": "code",
   "execution_count": 41,
   "id": "a3dacd39",
   "metadata": {
    "ExecuteTime": {
     "end_time": "2022-05-14T04:26:42.785277Z",
     "start_time": "2022-05-14T04:26:42.767521Z"
    }
   },
   "outputs": [
    {
     "name": "stdout",
     "output_type": "stream",
     "text": [
      "\r",
      "10 itemset(s) from tree conditioned on items ()\n",
      "\r",
      "3 itemset(s) from tree conditioned on items (Sixth Sense)\n",
      "\r",
      "3 itemset(s) from tree conditioned on items (Green Mile)\n",
      "\r",
      "3 itemset(s) from tree conditioned on items (LOTR2)\n",
      "\r",
      "7 itemset(s) from tree conditioned on items (Harry Potter1)\n",
      "\r",
      "15 itemset(s) from tree conditioned on items (LOTR1)\n",
      "\r",
      "0 itemset(s) from tree conditioned on items (Gladiator)\n",
      "\r",
      "1 itemset(s) from tree conditioned on items (Patriot)\n",
      "\r",
      "3 itemset(s) from tree conditioned on items (Braveheart)\n",
      "\r",
      "1 itemset(s) from tree conditioned on items (Harry Potter2)\n",
      "\r",
      "7 itemset(s) from tree conditioned on items (LOTR)\n",
      "(53, 2)\n"
     ]
    }
   ],
   "source": [
    "frequent_itemsets_fp=fpgrowth(num_movie, min_support=0.1, use_colnames=True,verbose=1)\n",
    "print(frequent_itemsets_fp.shape)"
   ]
  },
  {
   "cell_type": "code",
   "execution_count": 42,
   "id": "fcec960a",
   "metadata": {
    "ExecuteTime": {
     "end_time": "2022-05-14T04:26:55.761841Z",
     "start_time": "2022-05-14T04:26:55.749075Z"
    }
   },
   "outputs": [
    {
     "data": {
      "text/html": [
       "<div>\n",
       "<style scoped>\n",
       "    .dataframe tbody tr th:only-of-type {\n",
       "        vertical-align: middle;\n",
       "    }\n",
       "\n",
       "    .dataframe tbody tr th {\n",
       "        vertical-align: top;\n",
       "    }\n",
       "\n",
       "    .dataframe thead th {\n",
       "        text-align: right;\n",
       "    }\n",
       "</style>\n",
       "<table border=\"1\" class=\"dataframe\">\n",
       "  <thead>\n",
       "    <tr style=\"text-align: right;\">\n",
       "      <th></th>\n",
       "      <th>support</th>\n",
       "      <th>itemsets</th>\n",
       "    </tr>\n",
       "  </thead>\n",
       "  <tbody>\n",
       "    <tr>\n",
       "      <th>5</th>\n",
       "      <td>0.7</td>\n",
       "      <td>(Gladiator)</td>\n",
       "    </tr>\n",
       "    <tr>\n",
       "      <th>0</th>\n",
       "      <td>0.6</td>\n",
       "      <td>(Sixth Sense)</td>\n",
       "    </tr>\n",
       "    <tr>\n",
       "      <th>41</th>\n",
       "      <td>0.6</td>\n",
       "      <td>(Patriot, Gladiator)</td>\n",
       "    </tr>\n",
       "    <tr>\n",
       "      <th>6</th>\n",
       "      <td>0.6</td>\n",
       "      <td>(Patriot)</td>\n",
       "    </tr>\n",
       "    <tr>\n",
       "      <th>10</th>\n",
       "      <td>0.5</td>\n",
       "      <td>(Gladiator, Sixth Sense)</td>\n",
       "    </tr>\n",
       "  </tbody>\n",
       "</table>\n",
       "</div>"
      ],
      "text/plain": [
       "    support                  itemsets\n",
       "5       0.7               (Gladiator)\n",
       "0       0.6             (Sixth Sense)\n",
       "41      0.6      (Patriot, Gladiator)\n",
       "6       0.6                 (Patriot)\n",
       "10      0.5  (Gladiator, Sixth Sense)"
      ]
     },
     "execution_count": 42,
     "metadata": {},
     "output_type": "execute_result"
    }
   ],
   "source": [
    "frequent_itemsets_fp.sort_values(\"support\", ascending = False).head()"
   ]
  },
  {
   "cell_type": "code",
   "execution_count": 43,
   "id": "8eaa46b3",
   "metadata": {
    "ExecuteTime": {
     "end_time": "2022-05-14T04:27:04.999552Z",
     "start_time": "2022-05-14T04:27:04.982696Z"
    }
   },
   "outputs": [
    {
     "name": "stdout",
     "output_type": "stream",
     "text": [
      "                antecedents    consequents  antecedent support  \\\n",
      "0             (Sixth Sense)    (Gladiator)                 0.6   \n",
      "1    (Sixth Sense, Patriot)    (Gladiator)                 0.4   \n",
      "2  (Sixth Sense, Gladiator)      (Patriot)                 0.5   \n",
      "3              (Green Mile)  (Sixth Sense)                 0.2   \n",
      "4   (Green Mile, Gladiator)  (Sixth Sense)                 0.1   \n",
      "\n",
      "   consequent support  support  confidence      lift  leverage  conviction  \n",
      "0                 0.7      0.5    0.833333  1.190476      0.08         1.8  \n",
      "1                 0.7      0.4    1.000000  1.428571      0.12         inf  \n",
      "2                 0.6      0.4    0.800000  1.333333      0.10         2.0  \n",
      "3                 0.6      0.2    1.000000  1.666667      0.08         inf  \n",
      "4                 0.6      0.1    1.000000  1.666667      0.04         inf  \n"
     ]
    }
   ],
   "source": [
    "rules_fp = association_rules(frequent_itemsets_fp, metric=\"confidence\", min_threshold=0.8)\n",
    "print(rules_fp.head())"
   ]
  },
  {
   "cell_type": "code",
   "execution_count": 44,
   "id": "1d8b7946",
   "metadata": {
    "ExecuteTime": {
     "end_time": "2022-05-14T04:27:14.670323Z",
     "start_time": "2022-05-14T04:27:14.655672Z"
    }
   },
   "outputs": [
    {
     "data": {
      "text/plain": [
       "(8, 9)"
      ]
     },
     "execution_count": 44,
     "metadata": {},
     "output_type": "execute_result"
    }
   ],
   "source": [
    "rules_fp[(rules_fp.support > 0.1) & (rules_fp.confidence > 0.4)].sort_values(\"confidence\", ascending = False).shape"
   ]
  },
  {
   "cell_type": "code",
   "execution_count": 46,
   "id": "a13bbf3c",
   "metadata": {
    "ExecuteTime": {
     "end_time": "2022-05-14T04:27:28.287412Z",
     "start_time": "2022-05-14T04:27:28.257782Z"
    }
   },
   "outputs": [
    {
     "data": {
      "text/html": [
       "<div>\n",
       "<style scoped>\n",
       "    .dataframe tbody tr th:only-of-type {\n",
       "        vertical-align: middle;\n",
       "    }\n",
       "\n",
       "    .dataframe tbody tr th {\n",
       "        vertical-align: top;\n",
       "    }\n",
       "\n",
       "    .dataframe thead th {\n",
       "        text-align: right;\n",
       "    }\n",
       "</style>\n",
       "<table border=\"1\" class=\"dataframe\">\n",
       "  <thead>\n",
       "    <tr style=\"text-align: right;\">\n",
       "      <th></th>\n",
       "      <th>antecedents</th>\n",
       "      <th>consequents</th>\n",
       "      <th>antecedent support</th>\n",
       "      <th>consequent support</th>\n",
       "      <th>support</th>\n",
       "      <th>confidence</th>\n",
       "      <th>lift</th>\n",
       "      <th>leverage</th>\n",
       "      <th>conviction</th>\n",
       "      <th>lhs items</th>\n",
       "    </tr>\n",
       "  </thead>\n",
       "  <tbody>\n",
       "    <tr>\n",
       "      <th>126</th>\n",
       "      <td>(Sixth Sense, LOTR)</td>\n",
       "      <td>(Green Mile, Gladiator)</td>\n",
       "      <td>0.1</td>\n",
       "      <td>0.1</td>\n",
       "      <td>0.1</td>\n",
       "      <td>1.0</td>\n",
       "      <td>10.0</td>\n",
       "      <td>0.09</td>\n",
       "      <td>inf</td>\n",
       "      <td>2</td>\n",
       "    </tr>\n",
       "    <tr>\n",
       "      <th>87</th>\n",
       "      <td>(LOTR2, Green Mile, LOTR1)</td>\n",
       "      <td>(Harry Potter1, Sixth Sense)</td>\n",
       "      <td>0.1</td>\n",
       "      <td>0.1</td>\n",
       "      <td>0.1</td>\n",
       "      <td>1.0</td>\n",
       "      <td>10.0</td>\n",
       "      <td>0.09</td>\n",
       "      <td>inf</td>\n",
       "      <td>3</td>\n",
       "    </tr>\n",
       "    <tr>\n",
       "      <th>85</th>\n",
       "      <td>(Harry Potter1, Sixth Sense, LOTR1)</td>\n",
       "      <td>(LOTR2, Green Mile)</td>\n",
       "      <td>0.1</td>\n",
       "      <td>0.1</td>\n",
       "      <td>0.1</td>\n",
       "      <td>1.0</td>\n",
       "      <td>10.0</td>\n",
       "      <td>0.09</td>\n",
       "      <td>inf</td>\n",
       "      <td>3</td>\n",
       "    </tr>\n",
       "    <tr>\n",
       "      <th>84</th>\n",
       "      <td>(Harry Potter1, Green Mile, LOTR1)</td>\n",
       "      <td>(LOTR2, Sixth Sense)</td>\n",
       "      <td>0.1</td>\n",
       "      <td>0.1</td>\n",
       "      <td>0.1</td>\n",
       "      <td>1.0</td>\n",
       "      <td>10.0</td>\n",
       "      <td>0.09</td>\n",
       "      <td>inf</td>\n",
       "      <td>3</td>\n",
       "    </tr>\n",
       "    <tr>\n",
       "      <th>81</th>\n",
       "      <td>(Harry Potter1, LOTR2, Sixth Sense)</td>\n",
       "      <td>(Green Mile, LOTR1)</td>\n",
       "      <td>0.1</td>\n",
       "      <td>0.1</td>\n",
       "      <td>0.1</td>\n",
       "      <td>1.0</td>\n",
       "      <td>10.0</td>\n",
       "      <td>0.09</td>\n",
       "      <td>inf</td>\n",
       "      <td>3</td>\n",
       "    </tr>\n",
       "  </tbody>\n",
       "</table>\n",
       "</div>"
      ],
      "text/plain": [
       "                             antecedents                   consequents  \\\n",
       "126                  (Sixth Sense, LOTR)       (Green Mile, Gladiator)   \n",
       "87            (LOTR2, Green Mile, LOTR1)  (Harry Potter1, Sixth Sense)   \n",
       "85   (Harry Potter1, Sixth Sense, LOTR1)           (LOTR2, Green Mile)   \n",
       "84    (Harry Potter1, Green Mile, LOTR1)          (LOTR2, Sixth Sense)   \n",
       "81   (Harry Potter1, LOTR2, Sixth Sense)           (Green Mile, LOTR1)   \n",
       "\n",
       "     antecedent support  consequent support  support  confidence  lift  \\\n",
       "126                 0.1                 0.1      0.1         1.0  10.0   \n",
       "87                  0.1                 0.1      0.1         1.0  10.0   \n",
       "85                  0.1                 0.1      0.1         1.0  10.0   \n",
       "84                  0.1                 0.1      0.1         1.0  10.0   \n",
       "81                  0.1                 0.1      0.1         1.0  10.0   \n",
       "\n",
       "     leverage  conviction  lhs items  \n",
       "126      0.09         inf          2  \n",
       "87       0.09         inf          3  \n",
       "85       0.09         inf          3  \n",
       "84       0.09         inf          3  \n",
       "81       0.09         inf          3  "
      ]
     },
     "execution_count": 46,
     "metadata": {},
     "output_type": "execute_result"
    }
   ],
   "source": [
    "rules_fp['lhs items'] = rules_fp['antecedents'].apply(lambda x:len(x) )\n",
    "rules_fp[rules_fp['lhs items']>1].sort_values('lift', ascending=False).head()"
   ]
  },
  {
   "cell_type": "code",
   "execution_count": 47,
   "id": "ee2c732e",
   "metadata": {
    "ExecuteTime": {
     "end_time": "2022-05-14T04:27:38.987621Z",
     "start_time": "2022-05-14T04:27:38.484762Z"
    }
   },
   "outputs": [
    {
     "data": {
      "text/plain": [
       "(array([ 0.5,  2.5,  4.5,  6.5,  8.5, 10.5, 12.5, 14.5, 16.5, 18.5, 20.5,\n",
       "        22.5, 24.5, 26.5, 28.5, 30.5]),\n",
       " [Text(0.5, 0, 'Gladiator'),\n",
       "  Text(2.5, 0, 'Green Mile,Gladiator'),\n",
       "  Text(4.5, 0, 'Green Mile,LOTR1'),\n",
       "  Text(6.5, 0, 'Green Mile,Sixth Sense'),\n",
       "  Text(8.5, 0, 'Harry Potter1'),\n",
       "  Text(10.5, 0, 'Harry Potter1,Green Mile,LOTR1'),\n",
       "  Text(12.5, 0, 'Harry Potter1,LOTR1'),\n",
       "  Text(14.5, 0, 'Harry Potter1,LOTR2,Sixth Sense'),\n",
       "  Text(16.5, 0, 'Harry Potter1,Sixth Sense,LOTR1'),\n",
       "  Text(18.5, 0, 'LOTR1'),\n",
       "  Text(20.5, 0, 'LOTR2,Green Mile'),\n",
       "  Text(22.5, 0, 'LOTR2,Green Mile,Sixth Sense'),\n",
       "  Text(24.5, 0, 'LOTR2,LOTR1'),\n",
       "  Text(26.5, 0, 'LOTR2,Sixth Sense,LOTR1'),\n",
       "  Text(28.5, 0, 'Sixth Sense'),\n",
       "  Text(30.5, 0, 'Sixth Sense,LOTR')])"
      ]
     },
     "execution_count": 47,
     "metadata": {},
     "output_type": "execute_result"
    },
    {
     "data": {
      "image/png": "[encoded data removed]",
      "text/plain": [
       "<Figure size 432x288 with 2 Axes>"
      ]
     },
     "metadata": {
      "needs_background": "light"
     },
     "output_type": "display_data"
    }
   ],
   "source": [
    "rules_fp['antecedents_'] = rules_fp['antecedents'].apply(lambda a: ','.join(list(a)))\n",
    "rules_fp['consequents_'] = rules_fp['consequents'].apply(lambda a: ','.join(list(a)))\n",
    "# Transform the DataFrame of rules into a matrix using the confidence metric\n",
    "pivot = rules_fp[rules_fp['lhs items']>1].pivot(index = 'antecedents_', \n",
    "                    columns = 'consequents_', values= 'confidence')\n",
    "# Generate a heatmap with annotations \n",
    "sns.heatmap(pivot, annot = True)\n",
    "plt.title('Heat Map - For Confidence Metric')\n",
    "plt.yticks(rotation=0)\n",
    "plt.xticks(rotation=90)"
   ]
  },
  {
   "cell_type": "code",
   "execution_count": 48,
   "id": "36684714",
   "metadata": {
    "ExecuteTime": {
     "end_time": "2022-05-14T04:27:51.585860Z",
     "start_time": "2022-05-14T04:27:51.564090Z"
    }
   },
   "outputs": [
    {
     "data": {
      "text/html": [
       "<div>\n",
       "<style scoped>\n",
       "    .dataframe tbody tr th:only-of-type {\n",
       "        vertical-align: middle;\n",
       "    }\n",
       "\n",
       "    .dataframe tbody tr th {\n",
       "        vertical-align: top;\n",
       "    }\n",
       "\n",
       "    .dataframe thead th {\n",
       "        text-align: right;\n",
       "    }\n",
       "</style>\n",
       "<table border=\"1\" class=\"dataframe\">\n",
       "  <thead>\n",
       "    <tr style=\"text-align: right;\">\n",
       "      <th></th>\n",
       "      <th>antecedents</th>\n",
       "      <th>consequents</th>\n",
       "      <th>antecedent support</th>\n",
       "      <th>consequent support</th>\n",
       "      <th>support</th>\n",
       "      <th>confidence</th>\n",
       "      <th>lift</th>\n",
       "      <th>leverage</th>\n",
       "      <th>conviction</th>\n",
       "      <th>lhs items</th>\n",
       "    </tr>\n",
       "  </thead>\n",
       "  <tbody>\n",
       "    <tr>\n",
       "      <th>94</th>\n",
       "      <td>(ArtBks, ChildBks)</td>\n",
       "      <td>(GeogBks)</td>\n",
       "      <td>0.1625</td>\n",
       "      <td>0.2760</td>\n",
       "      <td>0.1020</td>\n",
       "      <td>0.627692</td>\n",
       "      <td>2.274247</td>\n",
       "      <td>0.057150</td>\n",
       "      <td>1.944628</td>\n",
       "      <td>2</td>\n",
       "    </tr>\n",
       "    <tr>\n",
       "      <th>80</th>\n",
       "      <td>(DoItYBks, CookBks)</td>\n",
       "      <td>(ArtBks)</td>\n",
       "      <td>0.1875</td>\n",
       "      <td>0.2410</td>\n",
       "      <td>0.1015</td>\n",
       "      <td>0.541333</td>\n",
       "      <td>2.246196</td>\n",
       "      <td>0.056313</td>\n",
       "      <td>1.654797</td>\n",
       "      <td>2</td>\n",
       "    </tr>\n",
       "    <tr>\n",
       "      <th>88</th>\n",
       "      <td>(ArtBks, CookBks)</td>\n",
       "      <td>(GeogBks)</td>\n",
       "      <td>0.1670</td>\n",
       "      <td>0.2760</td>\n",
       "      <td>0.1035</td>\n",
       "      <td>0.619760</td>\n",
       "      <td>2.245509</td>\n",
       "      <td>0.057408</td>\n",
       "      <td>1.904063</td>\n",
       "      <td>2</td>\n",
       "    </tr>\n",
       "    <tr>\n",
       "      <th>87</th>\n",
       "      <td>(GeogBks, CookBks)</td>\n",
       "      <td>(ArtBks)</td>\n",
       "      <td>0.1925</td>\n",
       "      <td>0.2410</td>\n",
       "      <td>0.1035</td>\n",
       "      <td>0.537662</td>\n",
       "      <td>2.230964</td>\n",
       "      <td>0.057107</td>\n",
       "      <td>1.641657</td>\n",
       "      <td>2</td>\n",
       "    </tr>\n",
       "    <tr>\n",
       "      <th>60</th>\n",
       "      <td>(CookBks, ChildBks)</td>\n",
       "      <td>(RefBks)</td>\n",
       "      <td>0.2560</td>\n",
       "      <td>0.2145</td>\n",
       "      <td>0.1225</td>\n",
       "      <td>0.478516</td>\n",
       "      <td>2.230842</td>\n",
       "      <td>0.067588</td>\n",
       "      <td>1.506277</td>\n",
       "      <td>2</td>\n",
       "    </tr>\n",
       "  </tbody>\n",
       "</table>\n",
       "</div>"
      ],
      "text/plain": [
       "            antecedents consequents  antecedent support  consequent support  \\\n",
       "94   (ArtBks, ChildBks)   (GeogBks)              0.1625              0.2760   \n",
       "80  (DoItYBks, CookBks)    (ArtBks)              0.1875              0.2410   \n",
       "88    (ArtBks, CookBks)   (GeogBks)              0.1670              0.2760   \n",
       "87   (GeogBks, CookBks)    (ArtBks)              0.1925              0.2410   \n",
       "60  (CookBks, ChildBks)    (RefBks)              0.2560              0.2145   \n",
       "\n",
       "    support  confidence      lift  leverage  conviction  lhs items  \n",
       "94   0.1020    0.627692  2.274247  0.057150    1.944628          2  \n",
       "80   0.1015    0.541333  2.246196  0.056313    1.654797          2  \n",
       "88   0.1035    0.619760  2.245509  0.057408    1.904063          2  \n",
       "87   0.1035    0.537662  2.230964  0.057107    1.641657          2  \n",
       "60   0.1225    0.478516  2.230842  0.067588    1.506277          2  "
      ]
     },
     "execution_count": 48,
     "metadata": {},
     "output_type": "execute_result"
    }
   ],
   "source": [
    "rules_fp_li['lhs items'] = rules_fp_li['antecedents'].apply(lambda x:len(x) )\n",
    "rules_fp_li[rules_fp_li['lhs items']>1].sort_values('lift', ascending=False).head()"
   ]
  },
  {
   "cell_type": "code",
   "execution_count": 51,
   "id": "6d78870f",
   "metadata": {
    "ExecuteTime": {
     "end_time": "2022-05-14T04:28:17.401485Z",
     "start_time": "2022-05-14T04:28:17.169072Z"
    }
   },
   "outputs": [
    {
     "data": {
      "image/png": "[encoded data removed]",
      "text/plain": [
       "<Figure size 432x288 with 2 Axes>"
      ]
     },
     "metadata": {
      "needs_background": "light"
     },
     "output_type": "display_data"
    }
   ],
   "source": [
    "# Replace frozen sets with strings\n",
    "rules_fp_li['antecedents_'] = rules_fp_li['antecedents'].apply(lambda a: ','.join(list(a)))\n",
    "rules_fp_li['consequents_'] = rules_fp_li['consequents'].apply(lambda a: ','.join(list(a)))\n",
    "# Transform the DataFrame of rules into a matrix using the lift metric\n",
    "pivot = rules_fp_li[rules_fp_li['lhs items']>1].pivot(index = 'antecedents_', \n",
    "                    columns = 'consequents_', values= 'lift')\n",
    "# Generate a heatmap with annotations on and the colorbar off\n",
    "sns.heatmap(pivot, annot = True)\n",
    "plt.title('Heat Map - For Lift Metric')\n",
    "plt.yticks(rotation=0)\n",
    "plt.xticks(rotation=90)\n",
    "plt.show()"
   ]
  },
  {
   "cell_type": "code",
   "execution_count": null,
   "id": "4ec3dae0",
   "metadata": {},
   "outputs": [],
   "source": []
  }
 ],
 "metadata": {
  "_draft": {
   "nbviewer_url": "https://gist.github.com/c70b5b75ea9738f4288fff35bea16524"
  },
  "gist": {
   "data": {
    "description": "Untitled84.ipynb",
    "public": true
   },
   "id": "c70b5b75ea9738f4288fff35bea16524"
  },
  "kernelspec": {
   "display_name": "Python 3 (ipykernel)",
   "language": "python",
   "name": "python3"
  },
  "language_info": {
   "codemirror_mode": {
    "name": "ipython",
    "version": 3
   },
   "file_extension": ".py",
   "mimetype": "text/x-python",
   "name": "python",
   "nbconvert_exporter": "python",
   "pygments_lexer": "ipython3",
   "version": "3.9.7"
  }
 },
 "nbformat": 4,
 "nbformat_minor": 5
}
